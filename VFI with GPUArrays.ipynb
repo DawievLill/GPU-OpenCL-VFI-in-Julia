{
 "cells": [
  {
   "cell_type": "markdown",
   "metadata": {},
   "source": [
    "# Value Function Iteration with GPUArray.jl\n",
    "\n",
    "The usage of the GPU for numerical computations in numerical tasks that are common for the applied (macro)economist can be extremely beneficial (see _\"**Tapping the Supercomputer Under Your Desk: Solving Dynamic Equilibrium Models with Graphics Processors**\" by Eric M. Aldrich, Jesús Fernández-Villaverde, A. Ronald Gallant and Juan F. Rubio-Ramírez_), as the time required to run parallel algorithms on the GPU is usually much, much less than that necessary on the CPU.\n",
    "\n",
    "Using the GPU, and specifically either CUDA or OpenCL, can however be taxing for the general user: the syntax is much less user-friendly than higher-level languages like Matlab, R or Julia, and the time required to set up the algorithm environment is very high. Also, C-like syntax requires the user to deal with the \"dirty\" details of memory access, usage and management. Errors are hard to debug, and flexibility is hindered.\n",
    "\n",
    "In Julia, **[OpenCL.jl](https://github.com/JuliaGPU/OpenCL.jl)** provides a direct way to execute an OpenCL kernel on and push/get data from the GPU: however, the OpenCL kernel itself _need to be programmed in OpenCL-C code_. This is a just a basic way of interacting with the GPU, and provides only minimal benefits compared to, say, doing most of the programming directly in C/C++ and OpenCL-C.\n",
    "\n",
    "However, thanks to the amazing packages **[GPUArrays.jl](https://github.com/JuliaGPU/GPUArrays.jl)** and, in this specific case, **[CLArrays.jl](https://github.com/JuliaGPU/CLArrays.jl)**, it is possible to **program the GPU directly in Julia**!"
   ]
  },
  {
   "cell_type": "markdown",
   "metadata": {},
   "source": [
    "### Setting up the Model\n",
    "\n",
    "First, we include the `matrixPrint.jl` file for \"pretty\" matrix printing:"
   ]
  },
  {
   "cell_type": "code",
   "execution_count": 1,
   "metadata": {},
   "outputs": [
    {
     "data": {
      "text/plain": [
       "matprint (generic function with 1 method)"
      ]
     },
     "execution_count": 1,
     "metadata": {},
     "output_type": "execute_result"
    }
   ],
   "source": [
    "include(\"matrixPrint.jl\")"
   ]
  },
  {
   "cell_type": "markdown",
   "metadata": {},
   "source": [
    "The very simple problem we are going to solve here is a basic **Real Business Cycle** (**RBC**) model with only capital as the state variable. In recursive form, it can be written as\n",
    "\n",
    "$ \\text{V}(k) \\; = \\; \\underset{k'}{\\max} \\left\\{ \\frac{c_t^{1-\\sigma}}{1-\\sigma} + \\beta \\mathbb{E}[\\text{V}(k')] \\right\\} \\quad \\text{s.t.} \\quad {k' = k^{\\alpha} + (1-\\delta)k - c } $\n",
    "\n",
    "For the **Value Function Iteration** algorithm we are going to use, we need to set:\n",
    "1. The _lower_ and _upper_ bounds for the capital grid, `lb` and `ub`;\n",
    "2. The number of grid points;\n",
    "3. the type of grid points (in this simple case, evenly spaced);\n",
    "4. Choose parameter values for $\\alpha$ and $\\beta$;\n",
    "\n",
    "**NOTE**: \n",
    "- For simplicity, $\\delta = 1$ is supposed here, because it makes it possibile to derive a closed-form solution of the value function. If $0 < \\delta < 1$, then such closed form does not exist.\n",
    "- The elasticity of substitution is $\\sigma = 1$ i.e. we use logarithmic utility."
   ]
  },
  {
   "cell_type": "code",
   "execution_count": 18,
   "metadata": {},
   "outputs": [
    {
     "name": "stdout",
     "output_type": "stream",
     "text": [
      "Array{Float32,1} showing [1:8/1000, 1:1]\n",
      "[\n",
      "\t0.001\n",
      "\t0.011\n",
      "\t0.021\n",
      "\t0.031\n",
      "\t0.041\n",
      "\t0.051\n",
      "\t0.061\n",
      "\t0.071063064\n",
      "\t...\n",
      "];\n"
     ]
    }
   ],
   "source": [
    "# Lower bound for the capital grid:\n",
    "lb = 0.001;\n",
    "# Upper bound for the capital grid: \n",
    "ub = 10;\n",
    "# Number of grid points:\n",
    "grid_size = 1000;\n",
    "# Create an evenly spaced capital grid:\n",
    "grid_w = Array{Float32}(collect(linspace(lb, ub, grid_size)));\n",
    "\n",
    "alpha = 0.5;\n",
    "beta = 0.7;\n",
    "\n",
    "matprint(grid_w)"
   ]
  },
  {
   "cell_type": "markdown",
   "metadata": {},
   "source": [
    "### (Naive) Value Function Iteration on the CPU\n",
    "\n",
    "A direct implementation of the **VFI** algorithm is as follows:\n",
    "1. Start with an initial guess for the Value Function;\n",
    "2. For each point of the capital grid, use the capital law of motion to compute $c(k,k') = k^{\\alpha}-k'$ for every $k'$ on the capital grid;\n",
    "3. If $log(c) > 0$, then maximize for $k'$ the value of $log(c)+\\beta \\text{V}(k')$;\n",
    "4. Repeat from step 1 for `maxiter_` number of times;"
   ]
  },
  {
   "cell_type": "code",
   "execution_count": 3,
   "metadata": {},
   "outputs": [
    {
     "data": {
      "text/plain": [
       "cpu_vfi (generic function with 1 method)"
      ]
     },
     "execution_count": 3,
     "metadata": {},
     "output_type": "execute_result"
    }
   ],
   "source": [
    "function cpu_vfi(grid_::Array{Float32}, alpha::Float64, beta::Float64, maxiter_, prec_)\n",
    "    \n",
    "    SIZE_GRID = size(grid_,1);\n",
    "    \n",
    "    V = Array{Float32}(ones(SIZE_GRID, 1));\n",
    "\n",
    "    for it = 1:maxiter_\n",
    "        \n",
    "        for i = 1:SIZE_GRID\n",
    "            tmp = grid_[i].^alpha .- grid_;\n",
    "            tmp_max = -Inf;\n",
    "            for (j, point_j) in enumerate(tmp)\n",
    "                if point_j > 0\n",
    "                    tmp_comp = log.(point_j) .+ beta.*V[j];\n",
    "                    tmp_max = max(tmp_comp, tmp_max);\n",
    "                end\n",
    "            end\n",
    "            V[i] = tmp_max;\n",
    "        end\n",
    "            \n",
    "    end\n",
    "    \n",
    "    return V\n",
    "        \n",
    "end"
   ]
  },
  {
   "cell_type": "markdown",
   "metadata": {},
   "source": [
    "### Value Function Iteration on the GPU with CLArrays.jl\n",
    "\n",
    "For the GPU, the process is almost the same, but some care has to be taken.\n",
    "\n",
    "To begin with, data structures like arrays have to be defined _inside_ the GPU memory, which can be done as follows\n",
    "\n",
    "`gpu_array = CLArray(Array{Float32}(array))`\n",
    "\n",
    "where `array` is a previously defined array in Julia. Here, note that we must force the `Float32` variable type: this is because not all GPUs support 64-bit arithmetic, but virtually all modern GPU support 32-bit floating point numbers.\n",
    "\n",
    "Then, we must ask the GPU to run the VFI algorithm for us. This is done through the following syntax\n",
    "\n",
    "```\n",
    "gpu_call(array, (input tuple), [size_of_array]) do state, <input tuple variables>\n",
    "    ...\n",
    "    ...\n",
    "end\n",
    "```\n",
    "\n",
    "_E.g_: `gpu_call(A, (A, b)) do state, A, b`\n",
    "\n",
    "Every kernel run on the GPU is inside a **context** of execution, and to each context the GPU assign a specific index that indicates which data elemnent it is working on. To access this index, the `@linearidx` macro is used in GPUArrays.jl and CLArrays.cl:\n",
    "\n",
    "```\n",
    "gpu_call(array, (input tuple), [size_of_array]) do state, <input tuple variables>\n",
    "    idx = @linearidx array\n",
    "    ...\n",
    "end\n",
    "```\n",
    "\n",
    "For Value Function Iteration, we can thus write the following code:"
   ]
  },
  {
   "cell_type": "code",
   "execution_count": 4,
   "metadata": {},
   "outputs": [
    {
     "data": {
      "text/plain": [
       "gpu_vfi (generic function with 1 method)"
      ]
     },
     "execution_count": 4,
     "metadata": {},
     "output_type": "execute_result"
    }
   ],
   "source": [
    "using CLArrays, GPUArrays\n",
    "\n",
    "function gpu_vfi(grid_::Array{Float32}, alpha::Float32, beta::Float32, maxiter_, prec_)\n",
    "    \n",
    "    SIZE_GRID = size(grid_, 1);\n",
    "    \n",
    "    V = ones(CLArray{Float32}, SIZE_GRID, 1);\n",
    "    grid = CLArray(Array{Float32}(grid_));\n",
    "    \n",
    "    for iter_ in 1:maxiter_\n",
    "    \n",
    "    # Write kernel for GPU manually:\n",
    "    gpu_call(grid, (grid, V, Float32(alpha), Float32(beta), UInt32(SIZE_GRID))) do state, grid, V, alpha, beta, SIZE_GRID\n",
    "        idx = @linearidx grid\n",
    "        tmp_max = Float32(-Inf);\n",
    "        @inbounds begin\n",
    "            for i = 1:SIZE_GRID\n",
    "                tmp_i = log(grid[idx]^alpha - grid[i]) + beta*V[i];\n",
    "                if tmp_i > tmp_max\n",
    "                    tmp_max = tmp_i;\n",
    "                end\n",
    "            end\n",
    "            V[idx] = tmp_max;\n",
    "        end   \n",
    "        return\n",
    "    end\n",
    "        \n",
    "    end\n",
    "    \n",
    "    return Array{Float32}(V)\n",
    "        \n",
    "end"
   ]
  },
  {
   "cell_type": "markdown",
   "metadata": {},
   "source": [
    "### Timing code execution\n",
    "\n",
    "We now compare CPU and GPU performance for the **first run**.\n",
    "\n",
    "The CPU, with this small problem, easily beats the GPU in a first run, mainly because the GPU requires data and kernels to be moved into the GPU memory before hand, and there is also some time required to compile the OpenCL code generated."
   ]
  },
  {
   "cell_type": "code",
   "execution_count": 5,
   "metadata": {},
   "outputs": [
    {
     "name": "stdout",
     "output_type": "stream",
     "text": [
      "Array{Float32,2} showing [1:8/1000, 1:1]\n",
      "[\n",
      "\t-8.638\n",
      "\t-6.795\n",
      "\t-6.292\n",
      "\t-5.993\n",
      "\t-5.777\n",
      "\t-5.609\n",
      "\t-5.473\n",
      "\t-5.355224\n",
      "\t...\n",
      "];\n"
     ]
    }
   ],
   "source": [
    "cpu_time = @elapsed CPU_OUT = cpu_vfi(grid_w, alpha, beta, 100, 0.0001);\n",
    "matprint(CPU_OUT)"
   ]
  },
  {
   "cell_type": "code",
   "execution_count": 6,
   "metadata": {},
   "outputs": [
    {
     "name": "stdout",
     "output_type": "stream",
     "text": [
      "Array{"
     ]
    },
    {
     "name": "stderr",
     "output_type": "stream",
     "text": [
      "base64 binary data: G1s5MW1FUlJPUiAodW5oYW5kbGVkIHRhc2sgZmFpbHVyZSk6IBtbOTFtT3BlbkNMIEVycm9yOiBPcGVuQ0wuQ29udGV4dCBlcnJvcjog+P////////8bWzM5bQpTdGFja3RyYWNlOgogWzFdIBtbMW1yYWlzZV9jb250ZXh0X2Vycm9yG1syMm0bWzIybRtbMW0oG1syMm0bWzIybTo6U3RyaW5nLCA6OlN0cmluZxtbMW0pG1syMm0bWzIybSBhdCAbWzFtL1VzZXJzL2dpb3Zhbm5pYi8uanVsaWEvdjAuNi9PcGVuQ0wvc3JjL2NvbnRleHQuamw6MTA5G1syMm0bWzIybQogWzJdIBtbMW1tYWNybyBleHBhbnNpb24bWzIybRtbMjJtIGF0IBtbMW0vVXNlcnMvZ2lvdmFubmliLy5qdWxpYS92MC42L09wZW5DTC9zcmMvY29udGV4dC5qbDoxNDgbWzIybRtbMjJtIFtpbmxpbmVkXQogWzNdIBtbMW0oOjpPcGVuQ0wuY2wuIyM0MyM0NCkbWzIybRtbMjJtG1sxbSgbWzIybRtbMjJtG1sxbSkbWzIybRtbMjJtIGF0IBtbMW0uL3Rhc2suamw6MzM1G1syMm0bWzIybQobWzM5bQ==\n"
     ]
    },
    {
     "name": "stdout",
     "output_type": "stream",
     "text": [
      "Float32,2} showing [1:8/1000, 1:1]\n",
      "[\n",
      "\t-8.638\n",
      "\t-6.795\n",
      "\t-6.292\n",
      "\t-5.993\n",
      "\t-5.777\n",
      "\t-5.609\n",
      "\t-5.473\n",
      "\t-5.3552237\n",
      "\t...\n",
      "];\n"
     ]
    }
   ],
   "source": [
    "cl_device = CLArrays.devices()[1]\n",
    "CLArrays.init(cl_device)\n",
    "\n",
    "gpu_time = @elapsed GPU_OUT = gpu_vfi(grid_w, Float32(alpha), Float32(beta), 100, 0.0001)\n",
    "matprint(GPU_OUT)"
   ]
  },
  {
   "cell_type": "code",
   "execution_count": 7,
   "metadata": {},
   "outputs": [
    {
     "data": {
      "image/png": "[encoded data removed]",
      "text/plain": [
       "PyPlot.Figure(PyObject <matplotlib.figure.Figure object at 0x12a73d9d0>)"
      ]
     },
     "metadata": {},
     "output_type": "display_data",
     "source": "julia"
    }
   ],
   "source": [
    "using PyPlot;\n",
    "\n",
    "fig = plot(figsize=(11,4));\n",
    "grid(true)\n",
    "bar([1, 2], [gpu_time, cpu_time], tick_label=[\"GPU\", \"CPU\"], color=[\"g\", \"b\"], width=0.5);\n",
    "title(\"FIRST RUN  -  Time (seconds)\");"
   ]
  },
  {
   "cell_type": "markdown",
   "metadata": {},
   "source": [
    "### GPU vs CPU code perfomance\n",
    "\n",
    "How fast can the GPU be once it is properly initialized?\n",
    "\n",
    "Suppose we change the parameters of the RBC model. The CPU remains unchanged, and execution time is not impacted.\n",
    "\n",
    "On the other hand, the GPU code needs not to be compiled, and most of the data has been (temporarily) moved to the GPU memory. Hence, now the GPU execution is more than **10 times** faster than the CPU counterpart. Unfortunately, some is always spent in moving the result from the GPU memory back to the main memory, so there is still a fixed cost that can not be removed.\n",
    "\n",
    "However, GPU perfomance is much higher than that of the CPU, and also scales much better as, for example, grid size increases."
   ]
  },
  {
   "cell_type": "code",
   "execution_count": 19,
   "metadata": {},
   "outputs": [
    {
     "name": "stdout",
     "output_type": "stream",
     "text": [
      "Array{Float32,2} showing [1:8/1000, 1:1]\n",
      "[\n",
      "\t-3.966\n",
      "\t-3.088\n",
      "\t-2.851\n",
      "\t-2.708\n",
      "\t-2.606\n",
      "\t-2.526\n",
      "\t-2.461\n",
      "\t-2.4049423\n",
      "\t...\n",
      "];\n"
     ]
    }
   ],
   "source": [
    "cpu_time = @elapsed CPU_OUT = cpu_vfi(grid_w, 0.3, 0.6, 100, 0.0001)\n",
    "matprint(CPU_OUT)"
   ]
  },
  {
   "cell_type": "code",
   "execution_count": 20,
   "metadata": {},
   "outputs": [
    {
     "name": "stdout",
     "output_type": "stream",
     "text": [
      "Array{Float32,2} showing [1:8/1000, 1:1]\n",
      "[\n",
      "\t-3.966\n",
      "\t-3.088\n",
      "\t-2.851\n",
      "\t-2.708\n",
      "\t-2.606\n",
      "\t-2.526\n",
      "\t-2.461\n",
      "\t-2.4049423\n",
      "\t...\n",
      "];\n"
     ]
    }
   ],
   "source": [
    "gpu_time = @elapsed GPU_OUT = gpu_vfi(grid_w, Float32(0.3), Float32(0.6), 100, 0.0001)\n",
    "matprint(GPU_OUT)"
   ]
  },
  {
   "cell_type": "code",
   "execution_count": 28,
   "metadata": {},
   "outputs": [
    {
     "data": {
      "image/png": "[encoded data removed]",
      "text/plain": [
       "PyPlot.Figure(PyObject <matplotlib.figure.Figure object at 0x13846d390>)"
      ]
     },
     "metadata": {},
     "output_type": "display_data",
     "source": "julia"
    },
    {
     "name": "stdout",
     "output_type": "stream",
     "text": [
      "CPU time: 3.314 seconds\n",
      "GPU time: 0.2095 seconds\n"
     ]
    }
   ],
   "source": [
    "using PyPlot;\n",
    "\n",
    "fig = plot(figsize=(11,4));\n",
    "grid(true)\n",
    "bar([1, 2], [gpu_time, cpu_time], tick_label=[\"GPU\", \"CPU\"], color=[\"g\", \"b\"], width=0.5);\n",
    "title(\"Time (seconds)\");\n",
    "\n",
    "println(\"CPU time: \", Float16(cpu_time), \" seconds\")\n",
    "println(\"GPU time: \", Float16(gpu_time), \" seconds\")"
   ]
  },
  {
   "cell_type": "markdown",
   "metadata": {},
   "source": [
    "We create a much finer grid:"
   ]
  },
  {
   "cell_type": "code",
   "execution_count": 29,
   "metadata": {},
   "outputs": [],
   "source": [
    "# Number of grid points:\n",
    "grid_size_fine = 5000;\n",
    "# Create an evenly spaced capital grid:\n",
    "grid_w_fine = Array{Float32}(collect(linspace(lb, ub, grid_size_fine)));"
   ]
  },
  {
   "cell_type": "code",
   "execution_count": 30,
   "metadata": {},
   "outputs": [
    {
     "name": "stdout",
     "output_type": "stream",
     "text": [
      "Array{Float32,2} showing [1:8/5000, 1:1]\n",
      "[\n",
      "\t-3.964\n",
      "\t-3.562\n",
      "\t-3.376\n",
      "\t-3.252\n",
      "\t-3.161\n",
      "\t-3.087\n",
      "\t-3.026\n",
      "\t-2.9736362\n",
      "\t...\n",
      "];\n"
     ]
    }
   ],
   "source": [
    "cpu_time = @elapsed CPU_OUT = cpu_vfi(grid_w_fine, 0.3, 0.6, 100, 0.0001)\n",
    "matprint(CPU_OUT)"
   ]
  },
  {
   "cell_type": "code",
   "execution_count": 31,
   "metadata": {},
   "outputs": [
    {
     "name": "stdout",
     "output_type": "stream",
     "text": [
      "Array{Float32,2} showing [1:8/5000, 1:1]\n",
      "[\n",
      "\t-3.964\n",
      "\t-3.562\n",
      "\t-3.376\n",
      "\t-3.252\n",
      "\t-3.161\n",
      "\t-3.087\n",
      "\t-3.026\n",
      "\t-2.9736364\n",
      "\t...\n",
      "];\n"
     ]
    }
   ],
   "source": [
    "gpu_time = @elapsed GPU_OUT = gpu_vfi(grid_w_fine, Float32(0.3), Float32(0.6), 100, 0.0001)\n",
    "matprint(GPU_OUT)"
   ]
  },
  {
   "cell_type": "markdown",
   "metadata": {},
   "source": [
    "As we can see, with a grid with 5000 points, the GPU code scales much better, with what is now a perfomance gain of around **100 times** when compared to the CPU."
   ]
  },
  {
   "cell_type": "code",
   "execution_count": 32,
   "metadata": {},
   "outputs": [
    {
     "data": {
      "image/png": "[encoded data removed]",
      "text/plain": [
       "PyPlot.Figure(PyObject <matplotlib.figure.Figure object at 0x137a51f90>)"
      ]
     },
     "metadata": {},
     "output_type": "display_data",
     "source": "julia"
    },
    {
     "name": "stdout",
     "output_type": "stream",
     "text": [
      "CPU time: 76.1 seconds\n",
      "GPU time: 0.7505 seconds\n"
     ]
    }
   ],
   "source": [
    "using PyPlot;\n",
    "\n",
    "fig = plot(figsize=(11,4));\n",
    "grid(true)\n",
    "bar([1, 2], [gpu_time, cpu_time], tick_label=[\"GPU\", \"CPU\"], color=[\"g\", \"b\"], width=0.5);\n",
    "title(\"FINE GRID  -  Time (seconds)\");\n",
    "\n",
    "println(\"CPU time: \", Float16(cpu_time), \" seconds\")\n",
    "println(\"GPU time: \", Float16(gpu_time), \" seconds\")"
   ]
  },
  {
   "cell_type": "markdown",
   "metadata": {},
   "source": [
    "### Final notes\n",
    "\n",
    "- The CPU and GPU codes are far from optimized, and this especially true for the CPU algorithm: we are not taking advantage of the parallel capabilities of Julia, that allow to emply all of the (multiple) cores of modern CPUs;\n",
    "\n",
    "- The RBC model is simple, and deterministic, so does not represent the real computational needs of modern economic models;\n",
    "\n",
    "- What happens is we decide to introduce stochastic components? \n",
    "\n",
    "- How do these benchmarks scale when the number of variables increases? "
   ]
  }
 ],
 "metadata": {
  "kernelspec": {
   "display_name": "Julia 0.6.1",
   "language": "julia",
   "name": "julia-0.6"
  },
  "language_info": {
   "file_extension": ".jl",
   "mimetype": "application/julia",
   "name": "julia",
   "version": "0.6.1"
  }
 },
 "nbformat": 4,
 "nbformat_minor": 2
}
