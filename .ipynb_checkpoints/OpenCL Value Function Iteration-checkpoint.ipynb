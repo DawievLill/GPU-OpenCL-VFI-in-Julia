{
 "cells": [
  {
   "cell_type": "markdown",
   "metadata": {},
   "source": [
    "# GPU Computing for Value Function Iteration in OpenCL\n",
    "### Original Paper: \"Tapping the Supercomputer Under Your Desk: Solving Dynamic Equilibrium Models with Graphics Processors\""
   ]
  },
  {
   "cell_type": "markdown",
   "metadata": {},
   "source": [
    "## Preparing the Environment\n",
    "\n",
    "We first import the OpenCL.jl modeule into the Julia workspace, and we make sure that the machine is equipped with a GPU device to run the task:"
   ]
  },
  {
   "cell_type": "code",
   "execution_count": 2,
   "metadata": {},
   "outputs": [
    {
     "data": {
      "text/plain": [
       "2-element Array{OpenCL.cl.Device,1}:\n",
       " OpenCL.Device(Intel(R) Core(TM) i5-6267U CPU @ 2.90GHz on Apple @0x00000000ffffffff)\n",
       " OpenCL.Device(Intel(R) Iris(TM) Graphics 550 on Apple @0x0000000001024500)          "
      ]
     },
     "execution_count": 2,
     "metadata": {},
     "output_type": "execute_result"
    }
   ],
   "source": [
    "using OpenCL\n",
    "\n",
    "cl.devices()"
   ]
  },
  {
   "cell_type": "markdown",
   "metadata": {},
   "source": [
    "In this case the 2nd device is an Intel GPU (Iris 550): since Intel graphic cards are not programmable with the CUDA GPGPU language, we resort to OpenCL, which runs with little performance overhead on prectically *any* consumer available graphics card."
   ]
  },
  {
   "cell_type": "markdown",
   "metadata": {},
   "source": [
    "## Creating the Kernel\n",
    "\n",
    "The key component in any GPGPU program is the so-called **kernel**: a kernel is nothing more than a small, compact routine that instead of running on the CPU, that is **serially**, is dispatched to the GPU by the OpenCL program and run **at the same time** by all available cores.\n",
    "\n",
    "The downside of the GPU is that all of its cores are \"tied together\", which means only tasks that can be split into indipendent, small-scale problems can benefit from being run on the GPU. In fact, most of the complexity in GPGPU computing is usually connected to the correct and most efficient orchestration of the CPU and the GPU.\n",
    "\n",
    "Let us now define the **Value Function Iteration** algorithm as an OpenCL kernel:"
   ]
  },
  {
   "cell_type": "code",
   "execution_count": 129,
   "metadata": {},
   "outputs": [],
   "source": [
    "vfi_cl = \"\n",
    "__kernel void gpuvfi( __global float *V0,\n",
    "                      __global float *V,\n",
    "                      __global const float *grid,\n",
    "                      const int grid_size) \n",
    "{\n",
    "      \n",
    "        int gid = get_global_id(0);\n",
    "\n",
    "        float alpha = 0.5f;\n",
    "        float beta = 0.7f;\n",
    "        \n",
    "        float grid_p = grid[gid];\n",
    "\n",
    "        float V_tmp = -INFINITY;\n",
    "        float u_arg;\n",
    "        float V_new;\n",
    "\n",
    "        for(int i = 0; i <= grid_size; i++) {\n",
    "            \n",
    "            u_arg = pow(grid_p, alpha) - grid[i];\n",
    "            \n",
    "            if (u_arg > 0) {\n",
    "                \n",
    "                V_new = log(u_arg) + beta*V0[i];\n",
    "                \n",
    "                if (V_tmp < V_new) {\n",
    "                    \n",
    "                    V_tmp = V_new;\n",
    "                    \n",
    "                }\n",
    "                \n",
    "            } else {\n",
    "                \n",
    "                break;\n",
    "                \n",
    "            }\n",
    "\n",
    "        }\n",
    "\n",
    "         V[gid] = V_tmp;\n",
    "    \n",
    "}\n",
    "\";"
   ]
  },
  {
   "cell_type": "markdown",
   "metadata": {},
   "source": [
    "Since the GPU is not capable of running high-level operations like numerical optimisation routines, we have to resort to a simple, direct maximization algorithm.\n",
    "\n",
    "In this case the code contains a **hard coded** version of the Bellman's equation, with parameters and functional forms in explicit OpenCL mathematical commands: OpenCL code being very close to C as of operations allowed, there is no way to determine \"inline functions\" like one can do, for example, in both MATLAB and Julia. It would be also quite resource intensive, and here we are trying to produce a as-stripped-down-as-possible version of the VFI algorithm.\n",
    "\n",
    "The GPU possesses a *global* and a *local* memory: both have different acces properties and are usuaally jointly used. However, the VFI requires to check, for every point in the capital grid, potentially every other possible point on such grid: we do not know *a priori* if we can restrict to a particular subset. Thus, the need to use *global* vectors for `grid`, `V0` and `V`.\n",
    "\n",
    "We first identify the worker's \"position\" on the grid:\n",
    "```c\n",
    "int gid = get_global_id(0);\n",
    "```\n",
    "the we set `alpha` and `beta` at the required value, and we obtain the current capital grid value:\n",
    "```c\n",
    "float grid_p = grid[gid];\n",
    "```\n",
    "Starting `V_temp = -INFINITY` implies that we have an obvious lower bound, and any negative value, for little it may be, will be saved if necessary.\n",
    "\n",
    "Interestingly, here we do not vectorize or pre-allocate operations: the GPU is extremely swift in executing these loops, but single kernels lack the trove of memory that is usually connected to the CPU. In a sense, GPU computing is more about **distributing** the computational burden more that **optimizing** it.\n",
    "\n",
    "But to keep the loop efficient, we use a `break` command to automatically stop the kernel if the argument of the utility is negative: since the capital grid values are increasing in the inxed `i`, as soon as we meet a negative value we know that given the functional for of the utility and production function any further capital grid point will again be negative. Thus we stop the execution and return the optmized value into the GPU memory."
   ]
  },
  {
   "cell_type": "markdown",
   "metadata": {},
   "source": [
    "## Capital discretization:\n",
    "\n",
    "We chose the lower bound **lb** and the upper bound **ub** for the capital: we will evenly discretize the interval between the bounds with **grid_size = 1000** points:"
   ]
  },
  {
   "cell_type": "code",
   "execution_count": 127,
   "metadata": {},
   "outputs": [],
   "source": [
    "lb = 0.001;\n",
    "ub = 10;\n",
    "\n",
    "grid_size = 1000;\n",
    "\n",
    "grid_w = Array{Float32}(collect(linspace(lb, ub, grid_size)));"
   ]
  },
  {
   "cell_type": "code",
   "execution_count": 41,
   "metadata": {},
   "outputs": [
    {
     "data": {
      "text/plain": [
       "opencl_vfi (generic function with 1 method)"
      ]
     },
     "execution_count": 41,
     "metadata": {},
     "output_type": "execute_result"
    }
   ],
   "source": [
    "function opencl_vfi(grid_::Array{Float32}, lowb_::Any, upb_::Any, maxiter_::Any, prec_::Any)\n",
    "    \n",
    "    device, ctx, queue = cl.create_compute_context();\n",
    "    \n",
    "    # Load OpneCL Kernel from a file:\n",
    "    #\n",
    "    # vfi_cl = readstring(joinpath(pwd(), \"vfi_correct.cl\"));\n",
    "    \n",
    "    V0 = Array{Float32}(zeros(size(grid_)));\n",
    "    V = Array{Float32}(zeros(size(grid_)));\n",
    "    \n",
    "    grid_buff = cl.Buffer(Float32, ctx, (:r, :copy), hostbuf = grid_);\n",
    "    V0_buff = cl.Buffer(Float32, ctx, (:r, :copy), hostbuf = V0);\n",
    "    V_buff = cl.Buffer(Float32, ctx, :w, length(V));\n",
    "\n",
    "    p = cl.Program(ctx, source = vfi_cl) |> cl.build!  # Using the CORRECT kernel;\n",
    "    krn = cl.Kernel(p, \"gpuvfi\")\n",
    "    \n",
    "    V0 = ones(size(V0));\n",
    "    V0_ = zeros(size(V0));\n",
    "    \n",
    "    it = 0;\n",
    "    \n",
    "    while ( norm(V0 - V) > prec_ && it < maxiter_)\n",
    "        \n",
    "        copy!(V0, V);\n",
    "        \n",
    "        krn[queue, size(grid_)](V0_buff, V_buff, grid_buff, 1000)\n",
    "        \n",
    "        V = cl.read(queue, V_buff);\n",
    "        \n",
    "        V0_ = cl.read(queue, V0_buff);\n",
    "        \n",
    "        cl.copy!(queue, V0_buff, V_buff);\n",
    "        \n",
    "        it += 1;\n",
    "        \n",
    "    end\n",
    "    \n",
    "    return V, it\n",
    "    \n",
    "end"
   ]
  },
  {
   "cell_type": "code",
   "execution_count": 45,
   "metadata": {},
   "outputs": [
    {
     "data": {
      "text/plain": [
       "cpu_vfi (generic function with 1 method)"
      ]
     },
     "execution_count": 45,
     "metadata": {},
     "output_type": "execute_result"
    }
   ],
   "source": [
    "using Optim\n",
    "using Interpolations\n",
    "\n",
    "function cpu_vfi(grid_::Array{Float32}, lowb_::Any, upb_::Any, maxiter_::Any, prec_::Any)\n",
    "    \n",
    "    w_prev = ones(size(grid_));\n",
    "    w_ = zeros(size(grid_));\n",
    "    \n",
    "    alpha = 0.5;\n",
    "    beta = 0.7;\n",
    "    \n",
    "    it = 0;\n",
    "    \n",
    "    while ( sum(abs.(w_prev - w_)) > prec_ && it < maxiter_ )\n",
    "        \n",
    "        w_prev = copy(w_);\n",
    "        \n",
    "        for (i, point_i) in enumerate(grid_)\n",
    "            \n",
    "           w_max = -Inf;\n",
    "            for (j, point_j) in enumerate(grid_)\n",
    "                cons = (grid_[i].^alpha - point_j);\n",
    "                if cons > 0\n",
    "                    w_max = max(w_max, (log(cons) + beta*w_prev[j]));\n",
    "                end\n",
    "            end\n",
    "\n",
    "            w_[i] = w_max;\n",
    "            \n",
    "        end\n",
    "        \n",
    "        it += 1;\n",
    "\n",
    "    end\n",
    "\n",
    "    return w_, it\n",
    "     \n",
    "    \n",
    "end"
   ]
  },
  {
   "cell_type": "markdown",
   "metadata": {},
   "source": [
    "## Comparing algorithm speed"
   ]
  },
  {
   "cell_type": "code",
   "execution_count": 130,
   "metadata": {},
   "outputs": [
    {
     "name": "stdout",
     "output_type": "stream",
     "text": [
      "  0.097131 seconds (2.99 k allocations: 876.578 KiB)\n"
     ]
    },
    {
     "data": {
      "text/plain": [
       "(Float32[-8.63812, -6.79475, -6.29169, -5.99307, -5.77733, -5.60927, -5.47292, -5.35522, -5.25326, -5.1644  …  -1.55614, -1.55536, -1.55458, -1.55381, -1.55303, -1.55226, -1.55148, -1.55071, -1.54994, -1.54916], 46)"
      ]
     },
     "execution_count": 130,
     "metadata": {},
     "output_type": "execute_result"
    }
   ],
   "source": [
    "@time w_gpu, it_gpu = opencl_vfi(grid_w, lb, ub, 1000, 0.00001)"
   ]
  },
  {
   "cell_type": "code",
   "execution_count": 131,
   "metadata": {},
   "outputs": [
    {
     "name": "stdout",
     "output_type": "stream",
     "text": [
      "  1.908848 seconds (176 allocations: 1.310 MiB)\n"
     ]
    },
    {
     "data": {
      "text/plain": [
       "([-8.63812, -6.79476, -6.29169, -5.99308, -5.77733, -5.60927, -5.47292, -5.35522, -5.25326, -5.1644  …  -1.55614, -1.55536, -1.55459, -1.55381, -1.55304, -1.55226, -1.55148, -1.55071, -1.54994, -1.54916], 55)"
      ]
     },
     "execution_count": 131,
     "metadata": {},
     "output_type": "execute_result"
    }
   ],
   "source": [
    "@time w_cpu, it_cpu = cpu_vfi(grid_w, lb, ub, 1000, 0.00001)"
   ]
  },
  {
   "cell_type": "code",
   "execution_count": 132,
   "metadata": {
    "scrolled": false
   },
   "outputs": [
    {
     "data": {
      "image/png": "[encoded data removed]",
      "text/plain": [
       "PyPlot.Figure(PyObject <matplotlib.figure.Figure object at 0x1386a5090>)"
      ]
     },
     "metadata": {},
     "output_type": "display_data"
    }
   ],
   "source": [
    "alpha = 0.5;\n",
    "beta = 0.7;\n",
    "ab = alpha*beta;\n",
    "y = log(1-alpha*beta)/(1-beta) + (alpha*beta*log(alpha*beta))/((1-beta)*(1-alpha*beta)) + alpha/(1-alpha*beta)*log.(grid_w);\n",
    "z = alpha/(1-ab)*log.(grid_w);\n",
    "\n",
    "error_gpu = abs.((y-w_gpu)./(1 + abs.((y-w_gpu))));\n",
    "error_cpu = abs.((y-w_cpu)./(1 + abs.((y-w_cpu))));\n",
    "\n",
    "using PyPlot\n",
    "\n",
    "fig = figure(figsize=(11,4));\n",
    "\n",
    "ax_a = subplot(121);\n",
    "\n",
    "ax_a1 = twinx(ax_a)\n",
    "\n",
    "ax_a[:plot](grid_w, w_gpu, \"r-\", linewidth=2);\n",
    "ax_a[:plot](grid_w, y, \"b--\", linewidth=1);\n",
    "ax_a1[:plot](grid_w, error_gpu, \"k\", linewidth=0.7);\n",
    "ax_a[:grid](true);\n",
    "\n",
    "ax_b = subplot(122);\n",
    "\n",
    "ax_b1 = twinx(ax_b)\n",
    "\n",
    "ax_b[:plot](grid_w, w_cpu, \"r-\", linewidth=2);\n",
    "ax_b[:plot](grid_w, y, \"b--\", linewidth=1);\n",
    "ax_b1[:plot](grid_w, error_cpu, \"k\", linewidth=0.7);\n",
    "ax_b[:grid](true);"
   ]
  },
  {
   "cell_type": "code",
   "execution_count": 135,
   "metadata": {},
   "outputs": [
    {
     "data": {
      "text/plain": [
       "\"Done\""
      ]
     },
     "execution_count": 135,
     "metadata": {},
     "output_type": "execute_result"
    }
   ],
   "source": [
    "av_gpu_time = 0;\n",
    "av_cpu_time = 0;\n",
    "\n",
    "repeats = 3;\n",
    "\n",
    "for i in 1:repeats\n",
    "    \n",
    "    t_gpu = @elapsed opencl_vfi(grid_w, lb, ub, 1000, 0.0001)\n",
    "    t_cpu = @elapsed cpu_vfi(grid_w, lb, ub, 1000, 0.0001)\n",
    "    \n",
    "    av_gpu_time += t_gpu/repeats;\n",
    "    av_cpu_time += t_cpu/repeats;\n",
    "    \n",
    "end\n",
    "\n",
    "\"Done\""
   ]
  },
  {
   "cell_type": "code",
   "execution_count": 136,
   "metadata": {},
   "outputs": [
    {
     "data": {
      "image/png": "[encoded data removed]",
      "text/plain": [
       "PyPlot.Figure(PyObject <matplotlib.figure.Figure object at 0x1391c0a90>)"
      ]
     },
     "metadata": {},
     "output_type": "display_data"
    }
   ],
   "source": [
    "using PyPlot;\n",
    "\n",
    "fig, ax = subplots(figsize=(11,4));\n",
    "\n",
    "ax_a = subplot(121)\n",
    "\n",
    "bar([1, 2], [it_gpu, it_cpu], tick_label=[\"GPU\", \"CPU\"], color=[\"g\", \"b\"], width=0.5);\n",
    "title(\"Number of iterations perfomed\");\n",
    "\n",
    "ax_b = subplot(122)\n",
    "\n",
    "bar([1, 2], [av_gpu_time, av_cpu_time], tick_label=[\"GPU\", \"CPU\"], color=[\"g\", \"b\"], width=0.5);\n",
    "title(\"Average time per iteration (seconds)\");\n"
   ]
  },
  {
   "cell_type": "code",
   "execution_count": null,
   "metadata": {
    "collapsed": true
   },
   "outputs": [],
   "source": []
  }
 ],
 "metadata": {
  "kernelspec": {
   "display_name": "Julia 0.6.1",
   "language": "julia",
   "name": "julia-0.6"
  },
  "language_info": {
   "file_extension": ".jl",
   "mimetype": "application/julia",
   "name": "julia",
   "version": "0.6.1"
  }
 },
 "nbformat": 4,
 "nbformat_minor": 2
}
