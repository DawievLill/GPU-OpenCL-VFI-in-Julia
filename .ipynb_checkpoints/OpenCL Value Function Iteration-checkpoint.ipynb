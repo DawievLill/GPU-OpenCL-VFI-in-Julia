{
 "cells": [
  {
   "cell_type": "markdown",
   "metadata": {},
   "source": [
    "# GPU Computing for Value Function Iteration in OpenCL\n",
    "### Original Paper: \"Tapping the Supercomputer Under Your Desk: Solving Dynamic Equilibrium Models with Graphics Processors\""
   ]
  },
  {
   "cell_type": "markdown",
   "metadata": {},
   "source": [
    "## Preparing the Environment\n",
    "\n",
    "We first import the OpenCL.jl modeule into the Julia workspace, and we make sure that the machine is equipped with a GPU device to run the task:"
   ]
  },
  {
   "cell_type": "code",
   "execution_count": 1,
   "metadata": {},
   "outputs": [
    {
     "data": {
      "text/plain": [
       "2-element Array{OpenCL.cl.Device,1}:\n",
       " OpenCL.Device(Intel(R) Core(TM) i5-6267U CPU @ 2.90GHz on Apple @0x00000000ffffffff)\n",
       " OpenCL.Device(Intel(R) Iris(TM) Graphics 550 on Apple @0x0000000001024500)          "
      ]
     },
     "execution_count": 1,
     "metadata": {},
     "output_type": "execute_result"
    }
   ],
   "source": [
    "using OpenCL\n",
    "\n",
    "cl.devices()"
   ]
  },
  {
   "cell_type": "markdown",
   "metadata": {},
   "source": [
    "In this case the 2nd device is an Intel GPU (Iris 550): since Intel graphic cards are not programmable with the CUDA GPGPU language, we resort to OpenCL, which runs with little performance overhead on prectically *any* consumer available graphics card."
   ]
  },
  {
   "cell_type": "markdown",
   "metadata": {},
   "source": [
    "## Creating the Kernel\n",
    "\n",
    "The key component in any GPGPU program is the so-called **kernel**: a kernel is nothing more than a small, compact routine that instead of running on the CPU, that is **serially**, is dispatched to the GPU by the OpenCL program and run **at the same time** by all available cores.\n",
    "\n",
    "The downside of the GPU is that all of its cores are \"tied together\", which means only tasks that can be split into indipendent, small-scale problems can benefit from being run on the GPU. In fact, most of the complexity in GPGPU computing is usually connected to the correct and most efficient orchestration of the CPU and the GPU.\n",
    "\n",
    "Let us now define the **Value Function Iteration** algorithm as an OpenCL kernel:"
   ]
  },
  {
   "cell_type": "code",
   "execution_count": 2,
   "metadata": {
    "collapsed": true
   },
   "outputs": [],
   "source": [
    "vfi_cl = \"\n",
    "__kernel void gpuvfi( __global float *V0,\n",
    "                      __global float *V,\n",
    "                      __global const float *grid,\n",
    "                      const int grid_size) \n",
    "{\n",
    "      \n",
    "        int gid = get_global_id(0);\n",
    "\n",
    "        float alpha = 0.5f;\n",
    "        float beta = 0.7f;\n",
    "        \n",
    "        float grid_p = grid[gid];\n",
    "\n",
    "        float V_tmp = -INFINITY;\n",
    "        float u_arg;\n",
    "        float V_new;\n",
    "\n",
    "        for(int i = 0; i <= grid_size; i++) {\n",
    "            \n",
    "            u_arg = pow(grid_p, alpha) - grid[i];\n",
    "            \n",
    "            if (u_arg > 0) {\n",
    "                \n",
    "                V_new = log(u_arg) + beta*V0[i];\n",
    "                \n",
    "                if (V_tmp < V_new) {\n",
    "                    \n",
    "                    V_tmp = V_new;\n",
    "                    \n",
    "                }\n",
    "                \n",
    "            } else {\n",
    "                \n",
    "                break;\n",
    "                \n",
    "            }\n",
    "\n",
    "        }\n",
    "\n",
    "         V[gid] = V_tmp;\n",
    "    \n",
    "}\n",
    "\";"
   ]
  },
  {
   "cell_type": "markdown",
   "metadata": {},
   "source": [
    "Since the GPU is not capable of running high-level operations like numerical optimisation routines, we have to resort to a simple, direct maximization algorithm.\n",
    "\n",
    "In this case the code contains a **hard coded** version of the Bellman's equation, with parameters and functional forms in explicit OpenCL mathematical commands: OpenCL code being very close to C as of operations allowed, there is no way to determine \"inline functions\" like one can do, for example, in both MATLAB and Julia. It would be also quite resource intensive, and here we are trying to produce a as-stripped-down-as-possible version of the VFI algorithm.\n",
    "\n",
    "The GPU possesses a *global* and a *local* memory: both have different acces properties and are usuaally jointly used. However, the VFI requires to check, for every point in the capital grid, potentially every other possible point on such grid: we do not know *a priori* if we can restrict to a particular subset. Thus, the need to use *global* vectors for `grid`, `V0` and `V`.\n",
    "\n",
    "We first identify the worker's \"position\" on the grid:\n",
    "```c\n",
    "int gid = get_global_id(0);\n",
    "```\n",
    "the we set `alpha` and `beta` at the required value, and we obtain the current capital grid value:\n",
    "```c\n",
    "float grid_p = grid[gid];\n",
    "```\n",
    "Starting `V_temp = -INFINITY` implies that we have an obvious lower bound, and any negative value, for little it may be, will be saved if necessary.\n",
    "\n",
    "Interestingly, here we do not vectorize or pre-allocate operations: the GPU is extremely swift in executing these loops, but single kernels lack the trove of memory that is usually connected to the CPU. In a sense, GPU computing is more about **distributing** the computational burden more that **optimizing** it.\n",
    "\n",
    "But to keep the loop efficient, we use a `break` command to automatically stop the kernel if the argument of the utility is negative: since the capital grid values are increasing in the inxed `i`, as soon as we meet a negative value we know that given the functional for of the utility and production function any further capital grid point will again be negative. Thus we stop the execution and return the optmized value into the GPU memory."
   ]
  },
  {
   "cell_type": "markdown",
   "metadata": {},
   "source": [
    "## Capital discretization:\n",
    "\n",
    "We chose the lower bound **lb** and the upper bound **ub** for the capital: we will evenly discretize the interval between the bounds with **grid_size = 1000** points:"
   ]
  },
  {
   "cell_type": "code",
   "execution_count": 3,
   "metadata": {
    "collapsed": true
   },
   "outputs": [],
   "source": [
    "lb = 0.001;\n",
    "ub = 10;\n",
    "\n",
    "grid_size = 1000;\n",
    "\n",
    "grid_w = Array{Float32}(collect(linspace(lb, ub, grid_size)));"
   ]
  },
  {
   "cell_type": "code",
   "execution_count": 4,
   "metadata": {},
   "outputs": [
    {
     "data": {
      "text/plain": [
       "opencl_vfi (generic function with 1 method)"
      ]
     },
     "execution_count": 4,
     "metadata": {},
     "output_type": "execute_result"
    }
   ],
   "source": [
    "function opencl_vfi(grid_::Array{Float32}, lowb_::Any, upb_::Any, maxiter_::Any, prec_::Any)\n",
    "    \n",
    "    device, ctx, queue = cl.create_compute_context();\n",
    "    \n",
    "    # Load OpneCL Kernel from a file:\n",
    "    #\n",
    "    # vfi_cl = readstring(joinpath(pwd(), \"vfi_correct.cl\"));\n",
    "    \n",
    "    V0 = Array{Float32}(zeros(size(grid_)));\n",
    "    V = Array{Float32}(zeros(size(grid_)));\n",
    "    \n",
    "    grid_buff = cl.Buffer(Float32, ctx, (:r, :copy), hostbuf = grid_);\n",
    "    V0_buff = cl.Buffer(Float32, ctx, (:r, :copy), hostbuf = V0);\n",
    "    V_buff = cl.Buffer(Float32, ctx, :w, length(V));\n",
    "\n",
    "    p = cl.Program(ctx, source = vfi_cl) |> cl.build!  # Using the CORRECT kernel;\n",
    "    krn = cl.Kernel(p, \"gpuvfi\")\n",
    "    \n",
    "    V0 = ones(size(V0));\n",
    "    V0_ = zeros(size(V0));\n",
    "    \n",
    "    it = 0;\n",
    "    \n",
    "    while ( norm(V0 - V) > prec_ && it < maxiter_)\n",
    "        \n",
    "        copy!(V0, V);\n",
    "        \n",
    "        krn[queue, size(grid_)](V0_buff, V_buff, grid_buff, 1000)\n",
    "        \n",
    "        V = cl.read(queue, V_buff);\n",
    "        \n",
    "        V0_ = cl.read(queue, V0_buff);\n",
    "        \n",
    "        cl.copy!(queue, V0_buff, V_buff);\n",
    "        \n",
    "        it += 1;\n",
    "        \n",
    "    end\n",
    "    \n",
    "    return V, it\n",
    "    \n",
    "end"
   ]
  },
  {
   "cell_type": "code",
   "execution_count": 5,
   "metadata": {},
   "outputs": [
    {
     "data": {
      "text/plain": [
       "cpu_vfi (generic function with 1 method)"
      ]
     },
     "execution_count": 5,
     "metadata": {},
     "output_type": "execute_result"
    }
   ],
   "source": [
    "#using Optim\n",
    "#using Interpolations\n",
    "\n",
    "function cpu_vfi(grid_::Array{Float32}, lowb_::Any, upb_::Any, maxiter_::Any, prec_::Any)\n",
    "    \n",
    "    w_prev = ones(size(grid_));\n",
    "    w_ = zeros(size(grid_));\n",
    "    \n",
    "    alpha = 0.5;\n",
    "    beta = 0.7;\n",
    "    \n",
    "    it = 0;\n",
    "    \n",
    "    while ( sum(abs.(w_prev - w_)) > prec_ && it < maxiter_ )\n",
    "        \n",
    "        w_prev = copy(w_);\n",
    "        \n",
    "        for (i, point_i) in enumerate(grid_)\n",
    "            \n",
    "           w_max = -Inf;\n",
    "            for (j, point_j) in enumerate(grid_)\n",
    "                cons = (grid_[i].^alpha - point_j);\n",
    "                if cons > 0\n",
    "                    w_max = max(w_max, (log(cons) + beta*w_prev[j]));\n",
    "                end\n",
    "            end\n",
    "\n",
    "            w_[i] = w_max;\n",
    "            \n",
    "        end\n",
    "        \n",
    "        it += 1;\n",
    "\n",
    "    end\n",
    "\n",
    "    return w_, it\n",
    "     \n",
    "    \n",
    "end"
   ]
  },
  {
   "cell_type": "markdown",
   "metadata": {},
   "source": [
    "## Comparing algorithm speed"
   ]
  },
  {
   "cell_type": "code",
   "execution_count": 6,
   "metadata": {},
   "outputs": [
    {
     "data": {
      "text/plain": [
       "([-8.63812, -6.79476, -6.29169, -5.99308, -5.77733, -5.60927, -5.47292, -5.35522, -5.25326, -5.1644  …  -1.55614, -1.55536, -1.55459, -1.55381, -1.55304, -1.55226, -1.55148, -1.55071, -1.54994, -1.54916], 55)"
      ]
     },
     "execution_count": 6,
     "metadata": {},
     "output_type": "execute_result"
    },
    {
     "name": "stdout",
     "output_type": "stream",
     "text": [
      "  1.943449 seconds (90.46 k allocations: 5.777 MiB)\n"
     ]
    }
   ],
   "source": [
    "@time w_cpu, it_cpu = cpu_vfi(grid_w, lb, ub, 1000, 0.00001)"
   ]
  },
  {
   "cell_type": "code",
   "execution_count": 8,
   "metadata": {},
   "outputs": [
    {
     "data": {
      "text/plain": [
       "(Float32[-8.63812, -6.79475, -6.29169, -5.99307, -5.77733, -5.60927, -5.47292, -5.35522, -5.25326, -5.1644  …  -1.55614, -1.55536, -1.55458, -1.55381, -1.55303, -1.55226, -1.55148, -1.55071, -1.54994, -1.54916], 46)"
      ]
     },
     "execution_count": 8,
     "metadata": {},
     "output_type": "execute_result"
    },
    {
     "name": "stdout",
     "output_type": "stream",
     "text": [
      "  0.116479 seconds (2.96 k allocations: 871.813 KiB)\n"
     ]
    }
   ],
   "source": [
    "@time w_gpu, it_gpu = opencl_vfi(grid_w, lb, ub, 1000, 0.00001)"
   ]
  },
  {
   "cell_type": "code",
   "execution_count": 11,
   "metadata": {
    "scrolled": false
   },
   "outputs": [
    {
     "data": {
      "image/png": "[encoded data removed]",
      "text/plain": [
       "PyPlot.Figure(PyObject <matplotlib.figure.Figure object at 0x13390f050>)"
      ]
     },
     "metadata": {},
     "output_type": "display_data"
    }
   ],
   "source": [
    "alpha = 0.5;\n",
    "beta = 0.7;\n",
    "ab = alpha*beta;\n",
    "y = log(1-alpha*beta)/(1-beta) + (alpha*beta*log(alpha*beta))/((1-beta)*(1-alpha*beta)) + alpha/(1-alpha*beta)*log.(grid_w);\n",
    "z = alpha/(1-ab)*log.(grid_w);\n",
    "\n",
    "error_gpu = abs.((y-w_gpu)./(1 + abs.((y-w_gpu))));\n",
    "error_cpu = abs.((y-w_cpu)./(1 + abs.((y-w_cpu))));\n",
    "\n",
    "using PyPlot\n",
    "\n",
    "fig = figure(figsize=(11,4));\n",
    "\n",
    "ax_a = subplot(121);\n",
    "\n",
    "ax_a1 = twinx(ax_a)\n",
    "\n",
    "ax_a[:plot](grid_w, w_gpu, \"r-\", linewidth=2);\n",
    "ax_a[:plot](grid_w, y, \"b--\", linewidth=1);\n",
    "ax_a1[:plot](grid_w, error_gpu, \"k\", linewidth=0.7);\n",
    "ax_a[:grid](true);\n",
    "\n",
    "ax_b = subplot(122);\n",
    "\n",
    "ax_b1 = twinx(ax_b)\n",
    "\n",
    "ax_b[:plot](grid_w, w_cpu, \"r-\", linewidth=2);\n",
    "ax_b[:plot](grid_w, y, \"b--\", linewidth=1);\n",
    "ax_b1[:plot](grid_w, error_cpu, \"k\", linewidth=0.7);\n",
    "ax_b[:grid](true);"
   ]
  },
  {
   "cell_type": "code",
   "execution_count": 9,
   "metadata": {},
   "outputs": [
    {
     "data": {
      "text/plain": [
       "\"Done\""
      ]
     },
     "execution_count": 9,
     "metadata": {},
     "output_type": "execute_result"
    }
   ],
   "source": [
    "av_gpu_time = 0;\n",
    "av_cpu_time = 0;\n",
    "\n",
    "repeats = 3;\n",
    "\n",
    "for i in 1:repeats\n",
    "    \n",
    "    t_gpu = @elapsed opencl_vfi(grid_w, lb, ub, 1000, 0.0001)\n",
    "    t_cpu = @elapsed cpu_vfi(grid_w, lb, ub, 1000, 0.0001)\n",
    "    \n",
    "    av_gpu_time += t_gpu/repeats;\n",
    "    av_cpu_time += t_cpu/repeats;\n",
    "    \n",
    "end\n",
    "\n",
    "\"Done\""
   ]
  },
  {
   "cell_type": "code",
   "execution_count": 10,
   "metadata": {},
   "outputs": [
    {
     "data": {
      "image/svg+xml": [
       "<?xml version=\"1.0\" encoding=\"utf-8\"?>\n",
       "<svg xmlns=\"http://www.w3.org/2000/svg\" xmlns:xlink=\"http://www.w3.org/1999/xlink\" width=\"600\" height=\"400\" viewBox=\"0 0 600 400\">\n",
       "<defs>\n",
       "  <clipPath id=\"clip7300\">\n",
       "    <rect x=\"0\" y=\"0\" width=\"600\" height=\"400\"/>\n",
       "  </clipPath>\n",
       "</defs>\n",
       "<polygon clip-path=\"url(#clip7300)\" points=\"\n",
       "0,400 600,400 600,0 0,0 \n",
       "  \" fill=\"#ffffff\" fill-opacity=\"1\"/>\n",
       "<defs>\n",
       "  <clipPath id=\"clip7301\">\n",
       "    <rect x=\"120\" y=\"0\" width=\"421\" height=\"400\"/>\n",
       "  </clipPath>\n",
       "</defs>\n",
       "<polygon clip-path=\"url(#clip7300)\" points=\"\n",
       "43.6938,384.252 580.315,384.252 580.315,31.4961 43.6938,31.4961 \n",
       "  \" fill=\"#ffffff\" fill-opacity=\"1\"/>\n",
       "<defs>\n",
       "  <clipPath id=\"clip7302\">\n",
       "    <rect x=\"43\" y=\"31\" width=\"538\" height=\"354\"/>\n",
       "  </clipPath>\n",
       "</defs>\n",
       "<polyline clip-path=\"url(#clip7302)\" style=\"stroke:#000000; stroke-width:0.5; stroke-opacity:0.1; fill:none\" points=\"\n",
       "  43.6938,374.268 580.315,374.268 \n",
       "  \"/>\n",
       "<polyline clip-path=\"url(#clip7302)\" style=\"stroke:#000000; stroke-width:0.5; stroke-opacity:0.1; fill:none\" points=\"\n",
       "  43.6938,313.761 580.315,313.761 \n",
       "  \"/>\n",
       "<polyline clip-path=\"url(#clip7302)\" style=\"stroke:#000000; stroke-width:0.5; stroke-opacity:0.1; fill:none\" points=\"\n",
       "  43.6938,253.254 580.315,253.254 \n",
       "  \"/>\n",
       "<polyline clip-path=\"url(#clip7302)\" style=\"stroke:#000000; stroke-width:0.5; stroke-opacity:0.1; fill:none\" points=\"\n",
       "  43.6938,192.747 580.315,192.747 \n",
       "  \"/>\n",
       "<polyline clip-path=\"url(#clip7302)\" style=\"stroke:#000000; stroke-width:0.5; stroke-opacity:0.1; fill:none\" points=\"\n",
       "  43.6938,132.24 580.315,132.24 \n",
       "  \"/>\n",
       "<polyline clip-path=\"url(#clip7302)\" style=\"stroke:#000000; stroke-width:0.5; stroke-opacity:0.1; fill:none\" points=\"\n",
       "  43.6938,71.7332 580.315,71.7332 \n",
       "  \"/>\n",
       "<polyline clip-path=\"url(#clip7300)\" style=\"stroke:#000000; stroke-width:1; stroke-opacity:1; fill:none\" points=\"\n",
       "  43.6938,384.252 580.315,384.252 \n",
       "  \"/>\n",
       "<polyline clip-path=\"url(#clip7300)\" style=\"stroke:#000000; stroke-width:1; stroke-opacity:1; fill:none\" points=\"\n",
       "  43.6938,384.252 43.6938,31.4961 \n",
       "  \"/>\n",
       "<polyline clip-path=\"url(#clip7300)\" style=\"stroke:#000000; stroke-width:1; stroke-opacity:1; fill:none\" points=\"\n",
       "  43.6938,374.268 51.7431,374.268 \n",
       "  \"/>\n",
       "<polyline clip-path=\"url(#clip7300)\" style=\"stroke:#000000; stroke-width:1; stroke-opacity:1; fill:none\" points=\"\n",
       "  43.6938,313.761 51.7431,313.761 \n",
       "  \"/>\n",
       "<polyline clip-path=\"url(#clip7300)\" style=\"stroke:#000000; stroke-width:1; stroke-opacity:1; fill:none\" points=\"\n",
       "  43.6938,253.254 51.7431,253.254 \n",
       "  \"/>\n",
       "<polyline clip-path=\"url(#clip7300)\" style=\"stroke:#000000; stroke-width:1; stroke-opacity:1; fill:none\" points=\"\n",
       "  43.6938,192.747 51.7431,192.747 \n",
       "  \"/>\n",
       "<polyline clip-path=\"url(#clip7300)\" style=\"stroke:#000000; stroke-width:1; stroke-opacity:1; fill:none\" points=\"\n",
       "  43.6938,132.24 51.7431,132.24 \n",
       "  \"/>\n",
       "<polyline clip-path=\"url(#clip7300)\" style=\"stroke:#000000; stroke-width:1; stroke-opacity:1; fill:none\" points=\"\n",
       "  43.6938,71.7332 51.7431,71.7332 \n",
       "  \"/>\n",
       "<g clip-path=\"url(#clip7300)\">\n",
       "<text style=\"fill:#000000; fill-opacity:1; font-family:Arial,Helvetica Neue,Helvetica,sans-serif; font-size:18; text-anchor:end;\" transform=\"rotate(0, 37.6938, 380.768)\" x=\"37.6938\" y=\"380.768\">0</text>\n",
       "</g>\n",
       "<g clip-path=\"url(#clip7300)\">\n",
       "<text style=\"fill:#000000; fill-opacity:1; font-family:Arial,Helvetica Neue,Helvetica,sans-serif; font-size:18; text-anchor:end;\" transform=\"rotate(0, 37.6938, 320.261)\" x=\"37.6938\" y=\"320.261\">10</text>\n",
       "</g>\n",
       "<g clip-path=\"url(#clip7300)\">\n",
       "<text style=\"fill:#000000; fill-opacity:1; font-family:Arial,Helvetica Neue,Helvetica,sans-serif; font-size:18; text-anchor:end;\" transform=\"rotate(0, 37.6938, 259.754)\" x=\"37.6938\" y=\"259.754\">20</text>\n",
       "</g>\n",
       "<g clip-path=\"url(#clip7300)\">\n",
       "<text style=\"fill:#000000; fill-opacity:1; font-family:Arial,Helvetica Neue,Helvetica,sans-serif; font-size:18; text-anchor:end;\" transform=\"rotate(0, 37.6938, 199.247)\" x=\"37.6938\" y=\"199.247\">30</text>\n",
       "</g>\n",
       "<g clip-path=\"url(#clip7300)\">\n",
       "<text style=\"fill:#000000; fill-opacity:1; font-family:Arial,Helvetica Neue,Helvetica,sans-serif; font-size:18; text-anchor:end;\" transform=\"rotate(0, 37.6938, 138.74)\" x=\"37.6938\" y=\"138.74\">40</text>\n",
       "</g>\n",
       "<g clip-path=\"url(#clip7300)\">\n",
       "<text style=\"fill:#000000; fill-opacity:1; font-family:Arial,Helvetica Neue,Helvetica,sans-serif; font-size:18; text-anchor:end;\" transform=\"rotate(0, 37.6938, 78.2332)\" x=\"37.6938\" y=\"78.2332\">50</text>\n",
       "</g>\n",
       "<g clip-path=\"url(#clip7300)\">\n",
       "<text style=\"fill:#000000; fill-opacity:1; font-family:Arial,Helvetica Neue,Helvetica,sans-serif; font-size:32; text-anchor:middle;\" transform=\"rotate(0, 312.004, 27.6)\" x=\"312.004\" y=\"27.6\">Number of iterations</text>\n",
       "</g>\n",
       "<polygon clip-path=\"url(#clip7302)\" points=\"\n",
       "73.2089,95.936 73.2089,374.268 252.306,374.268 252.306,95.936 73.2089,95.936 73.2089,95.936 \n",
       "  \" fill=\"#009af9\" fill-opacity=\"1\"/>\n",
       "<polyline clip-path=\"url(#clip7302)\" style=\"stroke:#000000; stroke-width:1; stroke-opacity:1; fill:none\" points=\"\n",
       "  73.2089,95.936 73.2089,374.268 252.306,374.268 252.306,95.936 73.2089,95.936 \n",
       "  \"/>\n",
       "<polygon clip-path=\"url(#clip7302)\" points=\"\n",
       "371.703,41.4797 371.703,374.268 550.8,374.268 550.8,41.4797 371.703,41.4797 371.703,41.4797 \n",
       "  \" fill=\"#009af9\" fill-opacity=\"1\"/>\n",
       "<polyline clip-path=\"url(#clip7302)\" style=\"stroke:#000000; stroke-width:1; stroke-opacity:1; fill:none\" points=\"\n",
       "  371.703,41.4797 371.703,374.268 550.8,374.268 550.8,41.4797 371.703,41.4797 \n",
       "  \"/>\n",
       "<g clip-path=\"url(#clip7300)\">\n",
       "<text style=\"fill:#ffffff; fill-opacity:1; font-family:Arial,Helvetica Neue,Helvetica,sans-serif; font-size:30; text-anchor:middle;\" transform=\"rotate(0, 162.757, 264.254)\" x=\"162.757\" y=\"264.254\">GPU</text>\n",
       "</g>\n",
       "<g clip-path=\"url(#clip7300)\">\n",
       "<text style=\"fill:#ffffff; fill-opacity:1; font-family:Arial,Helvetica Neue,Helvetica,sans-serif; font-size:30; text-anchor:middle;\" transform=\"rotate(0, 461.252, 234.001)\" x=\"461.252\" y=\"234.001\">CPU</text>\n",
       "</g>\n",
       "</svg>\n"
      ]
     },
     "execution_count": 10,
     "metadata": {},
     "output_type": "execute_result"
    }
   ],
   "source": [
    "using Plots; gr()\n",
    "Plots.scalefontsizes(1.5)\n",
    "\n",
    "bar([1,2], [it_gpu, it_cpu], xticks=[1, 2], bar_width=0.6, \n",
    "        legend=false, title=\"Number of iterations\", xticks=[])\n",
    "annotate!([(1, 20, text(\"GPU\",20,:white,:center)),\n",
    "          (2, 25, text(\"CPU\",20,:white,:center))])"
   ]
  },
  {
   "cell_type": "code",
   "execution_count": 16,
   "metadata": {},
   "outputs": [
    {
     "data": {
      "image/svg+xml": [
       "<?xml version=\"1.0\" encoding=\"utf-8\"?>\n",
       "<svg xmlns=\"http://www.w3.org/2000/svg\" xmlns:xlink=\"http://www.w3.org/1999/xlink\" width=\"600\" height=\"400\" viewBox=\"0 0 600 400\">\n",
       "<defs>\n",
       "  <clipPath id=\"clip7900\">\n",
       "    <rect x=\"0\" y=\"0\" width=\"600\" height=\"400\"/>\n",
       "  </clipPath>\n",
       "</defs>\n",
       "<polygon clip-path=\"url(#clip7900)\" points=\"\n",
       "0,400 600,400 600,0 0,0 \n",
       "  \" fill=\"#ffffff\" fill-opacity=\"1\"/>\n",
       "<defs>\n",
       "  <clipPath id=\"clip7901\">\n",
       "    <rect x=\"120\" y=\"0\" width=\"421\" height=\"400\"/>\n",
       "  </clipPath>\n",
       "</defs>\n",
       "<polygon clip-path=\"url(#clip7900)\" points=\"\n",
       "48.7117,384.252 580.315,384.252 580.315,31.4961 48.7117,31.4961 \n",
       "  \" fill=\"#ffffff\" fill-opacity=\"1\"/>\n",
       "<defs>\n",
       "  <clipPath id=\"clip7902\">\n",
       "    <rect x=\"48\" y=\"31\" width=\"533\" height=\"354\"/>\n",
       "  </clipPath>\n",
       "</defs>\n",
       "<polyline clip-path=\"url(#clip7902)\" style=\"stroke:#000000; stroke-width:0.5; stroke-opacity:0.1; fill:none\" points=\"\n",
       "  48.7117,374.268 580.315,374.268 \n",
       "  \"/>\n",
       "<polyline clip-path=\"url(#clip7902)\" style=\"stroke:#000000; stroke-width:0.5; stroke-opacity:0.1; fill:none\" points=\"\n",
       "  48.7117,270.558 580.315,270.558 \n",
       "  \"/>\n",
       "<polyline clip-path=\"url(#clip7902)\" style=\"stroke:#000000; stroke-width:0.5; stroke-opacity:0.1; fill:none\" points=\"\n",
       "  48.7117,166.848 580.315,166.848 \n",
       "  \"/>\n",
       "<polyline clip-path=\"url(#clip7902)\" style=\"stroke:#000000; stroke-width:0.5; stroke-opacity:0.1; fill:none\" points=\"\n",
       "  48.7117,63.1375 580.315,63.1375 \n",
       "  \"/>\n",
       "<polyline clip-path=\"url(#clip7900)\" style=\"stroke:#000000; stroke-width:1; stroke-opacity:1; fill:none\" points=\"\n",
       "  48.7117,384.252 580.315,384.252 \n",
       "  \"/>\n",
       "<polyline clip-path=\"url(#clip7900)\" style=\"stroke:#000000; stroke-width:1; stroke-opacity:1; fill:none\" points=\"\n",
       "  48.7117,384.252 48.7117,31.4961 \n",
       "  \"/>\n",
       "<polyline clip-path=\"url(#clip7900)\" style=\"stroke:#000000; stroke-width:1; stroke-opacity:1; fill:none\" points=\"\n",
       "  48.7117,374.268 56.6858,374.268 \n",
       "  \"/>\n",
       "<polyline clip-path=\"url(#clip7900)\" style=\"stroke:#000000; stroke-width:1; stroke-opacity:1; fill:none\" points=\"\n",
       "  48.7117,270.558 56.6858,270.558 \n",
       "  \"/>\n",
       "<polyline clip-path=\"url(#clip7900)\" style=\"stroke:#000000; stroke-width:1; stroke-opacity:1; fill:none\" points=\"\n",
       "  48.7117,166.848 56.6858,166.848 \n",
       "  \"/>\n",
       "<polyline clip-path=\"url(#clip7900)\" style=\"stroke:#000000; stroke-width:1; stroke-opacity:1; fill:none\" points=\"\n",
       "  48.7117,63.1375 56.6858,63.1375 \n",
       "  \"/>\n",
       "<g clip-path=\"url(#clip7900)\">\n",
       "<text style=\"fill:#000000; fill-opacity:1; font-family:Arial,Helvetica Neue,Helvetica,sans-serif; font-size:18; text-anchor:end;\" transform=\"rotate(0, 42.7117, 380.768)\" x=\"42.7117\" y=\"380.768\">0.0</text>\n",
       "</g>\n",
       "<g clip-path=\"url(#clip7900)\">\n",
       "<text style=\"fill:#000000; fill-opacity:1; font-family:Arial,Helvetica Neue,Helvetica,sans-serif; font-size:18; text-anchor:end;\" transform=\"rotate(0, 42.7117, 277.058)\" x=\"42.7117\" y=\"277.058\">0.5</text>\n",
       "</g>\n",
       "<g clip-path=\"url(#clip7900)\">\n",
       "<text style=\"fill:#000000; fill-opacity:1; font-family:Arial,Helvetica Neue,Helvetica,sans-serif; font-size:18; text-anchor:end;\" transform=\"rotate(0, 42.7117, 173.348)\" x=\"42.7117\" y=\"173.348\">1.0</text>\n",
       "</g>\n",
       "<g clip-path=\"url(#clip7900)\">\n",
       "<text style=\"fill:#000000; fill-opacity:1; font-family:Arial,Helvetica Neue,Helvetica,sans-serif; font-size:18; text-anchor:end;\" transform=\"rotate(0, 42.7117, 69.6375)\" x=\"42.7117\" y=\"69.6375\">1.5</text>\n",
       "</g>\n",
       "<g clip-path=\"url(#clip7900)\">\n",
       "<text style=\"fill:#000000; fill-opacity:1; font-family:Arial,Helvetica Neue,Helvetica,sans-serif; font-size:32; text-anchor:middle;\" transform=\"rotate(0, 314.513, 27.6)\" x=\"314.513\" y=\"27.6\">Time (seconds)</text>\n",
       "</g>\n",
       "<polygon clip-path=\"url(#clip7902)\" points=\"\n",
       "77.9509,360.008 77.9509,374.268 255.373,374.268 255.373,360.008 77.9509,360.008 77.9509,360.008 \n",
       "  \" fill=\"#009af9\" fill-opacity=\"1\"/>\n",
       "<polyline clip-path=\"url(#clip7902)\" style=\"stroke:#000000; stroke-width:1; stroke-opacity:1; fill:none\" points=\"\n",
       "  77.9509,360.008 77.9509,374.268 255.373,374.268 255.373,360.008 77.9509,360.008 \n",
       "  \"/>\n",
       "<polygon clip-path=\"url(#clip7902)\" points=\"\n",
       "373.654,41.4797 373.654,374.268 551.076,374.268 551.076,41.4797 373.654,41.4797 373.654,41.4797 \n",
       "  \" fill=\"#009af9\" fill-opacity=\"1\"/>\n",
       "<polyline clip-path=\"url(#clip7902)\" style=\"stroke:#000000; stroke-width:1; stroke-opacity:1; fill:none\" points=\"\n",
       "  373.654,41.4797 373.654,374.268 551.076,374.268 551.076,41.4797 373.654,41.4797 \n",
       "  \"/>\n",
       "<g clip-path=\"url(#clip7900)\">\n",
       "<text style=\"fill:#000000; fill-opacity:1; font-family:Arial,Helvetica Neue,Helvetica,sans-serif; font-size:30; text-anchor:middle;\" transform=\"rotate(0, 166.662, 323.042)\" x=\"166.662\" y=\"323.042\">GPU</text>\n",
       "</g>\n",
       "<g clip-path=\"url(#clip7900)\">\n",
       "<text style=\"fill:#ffffff; fill-opacity:1; font-family:Arial,Helvetica Neue,Helvetica,sans-serif; font-size:30; text-anchor:middle;\" transform=\"rotate(0, 462.365, 177.848)\" x=\"462.365\" y=\"177.848\">CPU</text>\n",
       "</g>\n",
       "<g clip-path=\"url(#clip7900)\">\n",
       "<text style=\"fill:#808080; fill-opacity:1; font-family:Arial,Helvetica Neue,Helvetica,sans-serif; font-size:26; text-anchor:middle;\" transform=\"rotate(0, 196.232, 134.864)\" x=\"196.232\" y=\"134.864\">Speed gain: ~25x</text>\n",
       "</g>\n",
       "</svg>\n"
      ]
     },
     "execution_count": 16,
     "metadata": {},
     "output_type": "execute_result"
    },
    {
     "name": "stdout",
     "output_type": "stream",
     "text": [
      "CPU time: 1.6045 seconds\n",
      "GPU time: 0.0687 seconds\n"
     ]
    }
   ],
   "source": [
    "println(\"CPU time: \", Float16(av_cpu_time), \" seconds\")\n",
    "println(\"GPU time: \", Float16(av_gpu_time), \" seconds\")\n",
    "\n",
    "bar([1,2], [av_gpu_time, av_cpu_time], xticks=[1, 2], bar_width=0.6, \n",
    "        legend=false, title=\"Time (seconds)\", xticks=[])\n",
    "annotate!([(1, 0.3, text(\"GPU\",20,:center)),\n",
    "          (2, 1.0, text(\"CPU\",20,:white,:center)),\n",
    "          (1.1, 1.2, text(\"Speed gain: ~25x\",18,:left,:grey,:center))])"
   ]
  }
 ],
 "metadata": {
  "kernelspec": {
   "display_name": "Julia 0.6.2",
   "language": "julia",
   "name": "julia-0.6"
  },
  "language_info": {
   "file_extension": ".jl",
   "mimetype": "application/julia",
   "name": "julia",
   "version": "0.6.4"
  }
 },
 "nbformat": 4,
 "nbformat_minor": 2
}
