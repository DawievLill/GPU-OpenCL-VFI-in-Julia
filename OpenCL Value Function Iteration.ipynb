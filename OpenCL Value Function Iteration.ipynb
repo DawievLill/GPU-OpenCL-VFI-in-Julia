{
 "cells": [
  {
   "cell_type": "markdown",
   "metadata": {},
   "source": [
    "# GPU Computing for Value Function Iteration in OpenCL\n",
    "### Original Paper: \"Tapping the Supercomputer Under Your Desk: Solving Dynamic Equilibrium Models with Graphics Processors\""
   ]
  },
  {
   "cell_type": "markdown",
   "metadata": {},
   "source": [
    "## Preparing the Environment\n",
    "\n",
    "We first import the OpenCL.jl modeule into the Julia workspace, and we make sure that the machine is equipped with a GPU device to run the task:"
   ]
  },
  {
   "cell_type": "code",
   "execution_count": 149,
   "metadata": {},
   "outputs": [
    {
     "data": {
      "text/plain": [
       "2-element Array{OpenCL.cl.Device,1}:\n",
       " OpenCL.Device(Intel(R) Core(TM) i5-6267U CPU @ 2.90GHz on Apple @0x00000000ffffffff)\n",
       " OpenCL.Device(Intel(R) Iris(TM) Graphics 550 on Apple @0x0000000001024500)          "
      ]
     },
     "execution_count": 149,
     "metadata": {},
     "output_type": "execute_result"
    }
   ],
   "source": [
    "using OpenCL\n",
    "\n",
    "cl.devices()"
   ]
  },
  {
   "cell_type": "markdown",
   "metadata": {},
   "source": [
    "In this case the 2nd device is an Intel GPU (Iris 550): since Intel graphic cards are not programmable with the CUDA GPGPU language, we resort to OpenCL, which runs with little performance overhead on prectically *any* consumer available graphics card.\n",
    "\n",
    "Let us create an OpenCL compute context i.e. initialize an environment for OpenCL computation:"
   ]
  },
  {
   "cell_type": "code",
   "execution_count": 150,
   "metadata": {
    "collapsed": true
   },
   "outputs": [],
   "source": [
    "device, ctx, queue = cl.create_compute_context();"
   ]
  },
  {
   "cell_type": "markdown",
   "metadata": {},
   "source": [
    "## Creating the Kernel\n",
    "\n",
    "The key component in any GPGPU program is the so-called **kernel**: a kernel is nothing more than a small, compact routine that instead of running on the CPU, that is **serially**, is dispatched to the GPU by the OpenCL program and run **at the same time** by all available cores.\n",
    "\n",
    "The downside of the GPU is that all of its cores are \"tied together\", which means only tasks that can be split into indipendent, small-scale problems can benefit from being run on the GPU. In fact, most of the complexity in GPGPU computing is usually connected to the correct and most efficient orchestration of the CPU and the GPU.\n",
    "\n",
    "Let us now define the **Value Function Iteration** algorithm as an OpenCL kernel:"
   ]
  },
  {
   "cell_type": "code",
   "execution_count": 151,
   "metadata": {
    "collapsed": true
   },
   "outputs": [],
   "source": [
    "vfi_source = \"\n",
    "#pragma OPENCL EXTENSION cl_khr_byte_addressable_store : enable\n",
    "\n",
    "__kernel void gpuvfi( __global float *w,\n",
    "                      __global int *iters,\n",
    "                      __global const float *grid,\n",
    "                      float const w_lb,\n",
    "                      float const w_ub,\n",
    "                      ushort const max_iter,\n",
    "                      float const precision ) \n",
    "    {\n",
    "      \n",
    "        int gid = get_global_id(0);\n",
    "\n",
    "        int it = 0;\n",
    "\n",
    "        float alpha = 0.5f;\n",
    "        float beta = 0.7f;\n",
    "\n",
    "        float phi = 0.618033f;\n",
    "        \n",
    "        float a = w_lb;\n",
    "        float b = w_ub;\n",
    "\n",
    "        float w1 = 0;\n",
    "        float w2 = 0;\n",
    "        \n",
    "        float w_prev = 0;\n",
    "\n",
    "        for(int k = 0; k < max_iter; k++) {\n",
    "\n",
    "            w_prev = w[gid];\n",
    "\n",
    "            w1 = log(powr(grid[gid], alpha) - a+(b-a)*(1-phi)) + beta*w_prev;\n",
    "            w2 = log(powr(grid[gid], alpha) - a+(b-a)*phi) + beta*w_prev;\n",
    "\n",
    "            /* Optimize the value function by the Golden search algorithm: */\n",
    "            for(int i = 0; i < 100; i++) {\n",
    "\n",
    "                if (w1 > w2) {\n",
    "                \n",
    "                    b = a+(b-a)*phi;\n",
    "                    w2 = log(powr(grid[gid], alpha) - a+(b-a)*phi) + beta*w_prev;\n",
    "                \n",
    "                } else {\n",
    "\n",
    "                    a = a+(b-a)*(1-phi);\n",
    "                    w1 = log(powr(grid[gid], alpha) - a+(b-a)*(1-phi)) + beta*w_prev;\n",
    "\n",
    "                }\n",
    "                \n",
    "                if (fabs(a - b) <= 0.01)\n",
    "                    break;\n",
    "\n",
    "            }\n",
    "\n",
    "            w[gid] = w1;\n",
    "            \n",
    "            /* Check iteration convergence: */\n",
    "            if (fabs(w[gid] - w_prev) <= 0.01)\n",
    "                break;\n",
    "\n",
    "            it = it + 1;\n",
    "\n",
    "        }\n",
    "\n",
    "        w[gid] = w1;\n",
    "\n",
    "        iters[gid] = it;\n",
    "    \n",
    "    }\n",
    "\";"
   ]
  },
  {
   "cell_type": "code",
   "execution_count": 152,
   "metadata": {
    "collapsed": true
   },
   "outputs": [],
   "source": [
    "#=\n",
    "\n",
    "a = rand(Float32, 50_000)\n",
    "b = rand(Float32, 50_000)\n",
    "\n",
    "device, ctx, queue = cl.create_compute_context()\n",
    "\n",
    "a_buff = cl.Buffer(Float32, ctx, (:r, :copy), hostbuf=a)\n",
    "b_buff = cl.Buffer(Float32, ctx, (:r, :copy), hostbuf=b)\n",
    "c_buff = cl.Buffer(Float32, ctx, :w, length(a))\n",
    "p = cl.Program(ctx, source=vfi_source) |> cl.build!\n",
    "k = cl.Kernel(p, \"sum\")\n",
    "\n",
    "queue(k, size(a), nothing, a_buff, b_buff, c_buff)\n",
    "\n",
    "r = cl.read(queue, c_buff)\n",
    "\n",
    "if isapprox(norm(r - (a+b)), zero(Float32))\n",
    "    info(\"Success!\")\n",
    "else\n",
    "    error(\"Norm should be 0.0f\")\n",
    "end\n",
    "=#\n"
   ]
  },
  {
   "cell_type": "code",
   "execution_count": 153,
   "metadata": {},
   "outputs": [],
   "source": [
    "lb = Float32(1e-5);\n",
    "ub = Float32(5);\n",
    "\n",
    "grid_size = 200;\n",
    "\n",
    "grid = Array{Float32}(collect(linspace(lb, ub, grid_size)));\n",
    "w = Array{Float32}(zeros(size(grid)));\n",
    "it = Array{Int16}(zeros(size(grid)));"
   ]
  },
  {
   "cell_type": "code",
   "execution_count": 154,
   "metadata": {},
   "outputs": [
    {
     "data": {
      "text/plain": [
       "OpenCL.Kernel(\"gpuvfi\" nargs=7)"
      ]
     },
     "execution_count": 154,
     "metadata": {},
     "output_type": "execute_result"
    }
   ],
   "source": [
    "w_buff = cl.Buffer(Float32, ctx, :w, length(w));\n",
    "it_buff = cl.Buffer(Int16, ctx, :w, length(it));\n",
    "\n",
    "grid_buff = cl.Buffer(Float32, ctx, (:r, :copy), hostbuf = grid);\n",
    "#lb_buff = cl.Buffer(Float32, ctx, (:r, :copy), hostbuf = lb)\n",
    "#ub_buff = cl.Buffer(Float32, ctx, (:r, :copy), hostbuf = ub)\n",
    "\n",
    "p = cl.Program(ctx, source = vfi_source) |> cl.build!\n",
    "krn = cl.Kernel(p, \"gpuvfi\")\n"
   ]
  },
  {
   "cell_type": "code",
   "execution_count": 155,
   "metadata": {},
   "outputs": [
    {
     "data": {
      "text/plain": [
       "OpenCL.Event(@0x00007ffa0007dd00)"
      ]
     },
     "execution_count": 155,
     "metadata": {},
     "output_type": "execute_result"
    }
   ],
   "source": [
    "queue(krn, size(w), nothing, w_buff, it_buff, grid_buff, 0.1, 10 , 1000, 0.0001)\n",
    "\n",
    "# cl.call(queue, krn, length(w), nothing, )"
   ]
  },
  {
   "cell_type": "code",
   "execution_count": 156,
   "metadata": {},
   "outputs": [
    {
     "data": {
      "text/plain": [
       "200-element Array{Float32,1}:\n",
       " -19.1663 \n",
       "  -6.11872\n",
       "  -4.96764\n",
       "  -4.28808\n",
       "  -3.81095\n",
       "  -3.44084\n",
       "  -3.13202\n",
       "  -2.87686\n",
       "  -2.65583\n",
       "  -2.46086\n",
       "  -2.27977\n",
       "  -2.12246\n",
       "  -1.97885\n",
       "   ⋮      \n",
       "   2.57008\n",
       "   2.57886\n",
       "   2.58759\n",
       "   2.59628\n",
       "   2.60493\n",
       "   2.61353\n",
       "   2.62208\n",
       "   2.63059\n",
       "   2.63906\n",
       "   2.64748\n",
       "   2.65586\n",
       "   2.6642 "
      ]
     },
     "execution_count": 156,
     "metadata": {},
     "output_type": "execute_result"
    }
   ],
   "source": [
    "iters = cl.read(queue, it_buff);\n",
    "r = cl.read(queue, w_buff)"
   ]
  },
  {
   "cell_type": "code",
   "execution_count": 159,
   "metadata": {
    "scrolled": false
   },
   "outputs": [
    {
     "data": {
      "image/png": "[encoded data removed]",
      "text/plain": [
       "PyPlot.Figure(PyObject <matplotlib.figure.Figure object at 0x13b977890>)"
      ]
     },
     "metadata": {},
     "output_type": "display_data"
    }
   ],
   "source": [
    "using PyPlot\n",
    "\n",
    "alpha = 0.5;\n",
    "beta = 0.7;\n",
    "ab = alpha*beta;\n",
    "# y = log(1-ab)/(1-beta) + alpha*log(ab)/(1-alpha)*(1/(1-beta)-1/(1-ab)) + 1/(1-ab)*log.(grid) \n",
    "y = 1/(1-ab)*log.(grid) \n",
    "\n",
    "fig, ax1 = subplots(figsize=(9,6));\n",
    "ax2 = twinx(ax1)\n",
    "\n",
    "ax1[:plot](grid, r, \"r-\", linewidth=2);\n",
    "ax1[:plot](grid, y, \"b--\", linewidth=1);\n",
    "\n",
    "ax2[:plot](grid[1:2:end], iters[1:2:end], \"k-\", linewidth=0.5);\n",
    "\n",
    "ax1[:grid](true);"
   ]
  }
 ],
 "metadata": {
  "kernelspec": {
   "display_name": "Julia 0.6.1",
   "language": "julia",
   "name": "julia-0.6"
  },
  "language_info": {
   "file_extension": ".jl",
   "mimetype": "application/julia",
   "name": "julia",
   "version": "0.6.1"
  }
 },
 "nbformat": 4,
 "nbformat_minor": 2
}
