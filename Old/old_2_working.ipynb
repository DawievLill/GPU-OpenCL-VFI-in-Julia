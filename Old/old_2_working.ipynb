{
 "cells": [
  {
   "cell_type": "markdown",
   "metadata": {},
   "source": [
    "# GPU Computing for Value Function Iteration in OpenCL\n",
    "### Original Paper: \"Tapping the Supercomputer Under Your Desk: Solving Dynamic Equilibrium Models with Graphics Processors\""
   ]
  },
  {
   "cell_type": "markdown",
   "metadata": {},
   "source": [
    "## Preparing the Environment\n",
    "\n",
    "We first import the OpenCL.jl modeule into the Julia workspace, and we make sure that the machine is equipped with a GPU device to run the task:"
   ]
  },
  {
   "cell_type": "code",
   "execution_count": 2,
   "metadata": {},
   "outputs": [
    {
     "data": {
      "text/plain": [
       "2-element Array{OpenCL.cl.Device,1}:\n",
       " OpenCL.Device(Intel(R) Core(TM) i5-6267U CPU @ 2.90GHz on Apple @0x00000000ffffffff)\n",
       " OpenCL.Device(Intel(R) Iris(TM) Graphics 550 on Apple @0x0000000001024500)          "
      ]
     },
     "execution_count": 2,
     "metadata": {},
     "output_type": "execute_result"
    }
   ],
   "source": [
    "using OpenCL\n",
    "\n",
    "cl.devices()"
   ]
  },
  {
   "cell_type": "markdown",
   "metadata": {},
   "source": [
    "In this case the 2nd device is an Intel GPU (Iris 550): since Intel graphic cards are not programmable with the CUDA GPGPU language, we resort to OpenCL, which runs with little performance overhead on prectically *any* consumer available graphics card.\n",
    "\n",
    "Let us create an OpenCL compute context i.e. initialize an environment for OpenCL computation:"
   ]
  },
  {
   "cell_type": "code",
   "execution_count": 3,
   "metadata": {
    "collapsed": true
   },
   "outputs": [],
   "source": [
    "# device, ctx, queue = cl.create_compute_context();"
   ]
  },
  {
   "cell_type": "markdown",
   "metadata": {},
   "source": [
    "## Creating the Kernel\n",
    "\n",
    "The key component in any GPGPU program is the so-called **kernel**: a kernel is nothing more than a small, compact routine that instead of running on the CPU, that is **serially**, is dispatched to the GPU by the OpenCL program and run **at the same time** by all available cores.\n",
    "\n",
    "The downside of the GPU is that all of its cores are \"tied together\", which means only tasks that can be split into indipendent, small-scale problems can benefit from being run on the GPU. In fact, most of the complexity in GPGPU computing is usually connected to the correct and most efficient orchestration of the CPU and the GPU.\n",
    "\n",
    "Let us now define the **Value Function Iteration** algorithm as an OpenCL kernel:"
   ]
  },
  {
   "cell_type": "code",
   "execution_count": 4,
   "metadata": {
    "collapsed": true
   },
   "outputs": [],
   "source": [
    "vfi_source = \"\n",
    "#pragma OPENCL EXTENSION cl_khr_byte_addressable_store : enable\n",
    "\n",
    "__kernel void gpuvfi( __global float *w,\n",
    "                      __global int *iters,\n",
    "                      __global const float *grid,\n",
    "                      float const w_lb,\n",
    "                      float const w_ub,\n",
    "                      ushort const max_iter,\n",
    "                      float const precision ) \n",
    "    {\n",
    "      \n",
    "        int gid = get_global_id(0);\n",
    "\n",
    "        int it = 0;\n",
    "\n",
    "        float alpha = 0.5f;\n",
    "        float beta = 0.7f;\n",
    "\n",
    "        float phi = 0.618033f;\n",
    "        \n",
    "        float grid_p = grid[gid];\n",
    "\n",
    "        // float lb = w_lb;\n",
    "        // float up = w_ub;\n",
    "        // float b = pow(grid_p, alpha);\n",
    "\n",
    "        float a = 0.01f;\n",
    "        float b = pow(grid_p, alpha);\n",
    "\n",
    "        // a = lb - (ub-lb)/(2*phi-1)*phi;\n",
    "        // b += lb + (ub-lb)/(2*phi-1)*phi;\n",
    "\n",
    "        float w1 = 0;\n",
    "        float w2 = 0;\n",
    "        \n",
    "        float w_prev = 0;\n",
    "        float w_temp = w_prev;\n",
    "\n",
    "        for(int k = 0; k < max_iter; k++) {\n",
    "\n",
    "            w_prev = w_temp;\n",
    "\n",
    "            a = 0.01f;\n",
    "            b = pow(grid_p, alpha);\n",
    "\n",
    "            w1 = log(powr(grid_p, alpha) - (a+(b-a)*(1-phi)))  + beta*w_prev;\n",
    "            w2 = log(powr(grid_p, alpha) - (a+(b-a)*phi)) + beta*w_prev;\n",
    "\n",
    "            // Optimize the value function by the Golden search algorithm:\n",
    "        \n",
    "            // int ii = 0;\n",
    "            \n",
    "            for(int i = 0; i < 100; i++) {\n",
    "\n",
    "                if (w1 > w2) {\n",
    "                \n",
    "                    b = a+(b-a)*phi;\n",
    "                    w2 = log(powr(grid_p, alpha) - (a+(b-a)*phi)) + beta*w_prev;\n",
    "                \n",
    "                } else {\n",
    "\n",
    "                    a = a+(b-a)*(1-phi);\n",
    "                    w1 = log(powr(grid_p, alpha) - (a+(b-a)*(1-phi))) + beta*w_prev;\n",
    "\n",
    "                }\n",
    "                \n",
    "                // ii++;\n",
    "                \n",
    "                if (fabs(a - b) <= 0.0001)\n",
    "                   break;\n",
    "\n",
    "            } // end of optimization;\n",
    "\n",
    "            w_temp = w1;\n",
    "\n",
    "            it++;\n",
    "\n",
    "            // Check iteration convergence:\n",
    "\n",
    "            if (fabs(w_temp - w_prev) <= 0.00001)\n",
    "                break;\n",
    "\n",
    "        } // end of value function iteration;\n",
    "\n",
    "        w[gid] = w_temp;\n",
    "\n",
    "        iters[gid] = it;\n",
    "    \n",
    "    }\n",
    "\";\n",
    "\n",
    "\n",
    "\n",
    "vfi_source__ = \"\n",
    "#pragma OPENCL EXTENSION cl_khr_byte_addressable_store : enable\n",
    "\n",
    "__kernel void gpuvfi( __global float *w,\n",
    "                      __global int *iters,\n",
    "                      __global const float *grid,\n",
    "                      float const w_lb,\n",
    "                      float const w_ub,\n",
    "                      ushort const max_iter,\n",
    "                      float const precision ) \n",
    "    {\n",
    "      \n",
    "        int ii = 0;\n",
    "            \n",
    "            for(int i = 0; i < 100; i++) {\n",
    "\n",
    "                if (w1 > w2) {\n",
    "                \n",
    "                    b = a+(b-a)*phi;\n",
    "                    w2 = log(powr(grid_p, alpha) - (a+(b-a)*phi)) + beta*w_prev;\n",
    "                \n",
    "                } else {\n",
    "\n",
    "                    a = a+(b-a)*(1-phi);\n",
    "                    w1 = log(powr(grid_p, alpha) - (a+(b-a)*(1-phi))) + beta*w_prev;\n",
    "\n",
    "                }\n",
    "                \n",
    "                ii++;\n",
    "                \n",
    "                if (fabs(a - b) <= 0.00001)\n",
    "                    break;\n",
    "\n",
    "            } // end of optimization;\n",
    "    \n",
    "    }\n",
    "\";\n",
    "\n",
    "vfi_correct = \"\n",
    "#pragma OPENCL EXTENSION cl_khr_byte_addressable_store : enable\n",
    "\n",
    "__kernel void gpuvfi( __global float *V0,\n",
    "                      __global float *V,\n",
    "                      __global const float *grid) \n",
    "    {\n",
    "      \n",
    "        int gid = get_global_id(0);\n",
    "\n",
    "        float alpha = 0.5f;\n",
    "        float beta = 0.7f;\n",
    "        \n",
    "        float grid_p = grid[gid];\n",
    "\n",
    "        float V1 = 0;\n",
    "        float V2 = 0;\n",
    "\n",
    "        /* V1 = log(powr(grid_p, alpha) - grid[0])  + beta*V0[0];\n",
    "\n",
    "        for(int i = 1; i < gid; i++) {\n",
    "\n",
    "            // V2 = log(powr(grid_p, alpha) - grid[i])  + beta*V0[i];\n",
    "\n",
    "            if (V2 > V1) { V1 = V2; }\n",
    "\n",
    "        }\n",
    "\n",
    "         V[gid] = V1; */\n",
    "    \n",
    "    }\n",
    "\";"
   ]
  },
  {
   "cell_type": "code",
   "execution_count": 5,
   "metadata": {
    "collapsed": true
   },
   "outputs": [],
   "source": [
    "#=\n",
    "\n",
    "a = rand(Float32, 50_000)\n",
    "b = rand(Float32, 50_000)\n",
    "\n",
    "device, ctx, queue = cl.create_compute_context()\n",
    "\n",
    "a_buff = cl.Buffer(Float32, ctx, (:r, :copy), hostbuf=a)\n",
    "b_buff = cl.Buffer(Float32, ctx, (:r, :copy), hostbuf=b)\n",
    "c_buff = cl.Buffer(Float32, ctx, :w, length(a))\n",
    "p = cl.Program(ctx, source=vfi_source) |> cl.build!\n",
    "k = cl.Kernel(p, \"sum\")\n",
    "\n",
    "queue(k, size(a), nothing, a_buff, b_buff, c_buff)\n",
    "\n",
    "r = cl.read(queue, c_buff)\n",
    "\n",
    "if isapprox(norm(r - (a+b)), zero(Float32))\n",
    "    info(\"Success!\")\n",
    "else\n",
    "    error(\"Norm should be 0.0f\")\n",
    "end\n",
    "=#\n"
   ]
  },
  {
   "cell_type": "code",
   "execution_count": 6,
   "metadata": {},
   "outputs": [
    {
     "data": {
      "text/plain": [
       "1000-element Array{Float32,1}:\n",
       "  0.01\n",
       "  0.02\n",
       "  0.03\n",
       "  0.04\n",
       "  0.05\n",
       "  0.06\n",
       "  0.07\n",
       "  0.08\n",
       "  0.09\n",
       "  0.1 \n",
       "  0.11\n",
       "  0.12\n",
       "  0.13\n",
       "  ⋮   \n",
       "  9.89\n",
       "  9.9 \n",
       "  9.91\n",
       "  9.92\n",
       "  9.93\n",
       "  9.94\n",
       "  9.95\n",
       "  9.96\n",
       "  9.97\n",
       "  9.98\n",
       "  9.99\n",
       " 10.0 "
      ]
     },
     "execution_count": 6,
     "metadata": {},
     "output_type": "execute_result"
    }
   ],
   "source": [
    "\n",
    "lb = 0.001;\n",
    "ub = 10;\n",
    "\n",
    "grid_size = 1000;\n",
    "\n",
    "grid_w = Array{Float32}(collect(linspace(lb, ub, grid_size)));\n",
    "\n",
    "#=\n",
    "w = Array{Float32}(zeros(size(grid_w)));\n",
    "it = Array{Int16}(zeros(size(grid_w)));\n",
    "=#"
   ]
  },
  {
   "cell_type": "code",
   "execution_count": 7,
   "metadata": {
    "collapsed": true
   },
   "outputs": [],
   "source": [
    "#=\n",
    "w_buff = cl.Buffer(Float32, ctx, :w, length(w));\n",
    "it_buff = cl.Buffer(Int16, ctx, :w, length(it));\n",
    "\n",
    "grid_buff = cl.Buffer(Float32, ctx, (:r, :copy), hostbuf = grid_w);\n",
    "#lb_buff = cl.Buffer(Float32, ctx, (:r, :copy), hostbuf = lb)\n",
    "#ub_buff = cl.Buffer(Float32, ctx, (:r, :copy), hostbuf = ub)\n",
    "\n",
    "p = cl.Program(ctx, source = vfi_source) |> cl.build!\n",
    "krn = cl.Kernel(p, \"gpuvfi\")\n",
    "=#"
   ]
  },
  {
   "cell_type": "code",
   "execution_count": 8,
   "metadata": {
    "collapsed": true
   },
   "outputs": [],
   "source": [
    "# queue(krn, size(w), nothing, w_buff, it_buff, grid_buff, 0.1, 10 , 1000, 0.0001)\n",
    "\n",
    "# cl.call(queue, krn, length(w), nothing, )"
   ]
  },
  {
   "cell_type": "code",
   "execution_count": 9,
   "metadata": {
    "collapsed": true
   },
   "outputs": [],
   "source": [
    "# iters = cl.read(queue, it_buff);\n",
    "# r = cl.read(queue, w_buff)"
   ]
  },
  {
   "cell_type": "code",
   "execution_count": 41,
   "metadata": {},
   "outputs": [
    {
     "data": {
      "text/plain": [
       "opencl_vfi (generic function with 1 method)"
      ]
     },
     "execution_count": 41,
     "metadata": {},
     "output_type": "execute_result"
    }
   ],
   "source": [
    "function opencl_vfi(grid_::Array{Float32}, lowb_::Any, upb_::Any, maxiter_::Any, prec_::Any)\n",
    "    \n",
    "    device, ctx, queue = cl.create_compute_context();\n",
    "    \n",
    "    vfi_cl = readstring(joinpath(pwd(), \"vfi_correct.cl\"));\n",
    "    \n",
    "    # grid = Array{Float32}(zeros(size(grid_)));\n",
    "    \n",
    "    V0 = Array{Float32}(zeros(size(grid_)));\n",
    "    V = Array{Float32}(zeros(size(grid_)));\n",
    "    \n",
    "    # it = Array{Int16}(zeros(size(grid)));\n",
    "    \n",
    "    grid_buff = cl.Buffer(Float32, ctx, (:r, :copy), hostbuf = grid_);\n",
    "    \n",
    "    # w_buff = cl.Buffer(Float32, ctx, :w, length(grid_));\n",
    "    V0_buff = cl.Buffer(Float32, ctx, (:r, :copy), hostbuf = V0);\n",
    "    V_buff = cl.Buffer(Float32, ctx, :w, length(V));\n",
    "    # V_buff = cl.Buffer(Float32, ctx, (:r, :copy), hostbuf = V);\n",
    "    \n",
    "    # it_buff = cl.Buffer(Int16, ctx, :w, length(grid_));\n",
    "\n",
    "    p = cl.Program(ctx, source = vfi_cl) |> cl.build!  # Using the CORRECT kernel;\n",
    "    krn = cl.Kernel(p, \"gpuvfi\")\n",
    "    \n",
    "    V0 = ones(size(V0));\n",
    "    V0_ = zeros(size(V0));\n",
    "    \n",
    "    it = 0;\n",
    "    \n",
    "    while ( norm(V0 - V) > prec_ && it < maxiter_)\n",
    "        \n",
    "        copy!(V0, V);\n",
    "    \n",
    "        # queue(krn, size(grid_), nothing, V0_buff, V_buff, grid_buff, 1000);\n",
    "        \n",
    "        # queue(krn, size(grid_), nothing, V_buff, V0_buff, grid_buff)\n",
    "        \n",
    "        # queue(krn, size(grid_), nothing, V_buff, V0_buff, grid_buff, \n",
    "        #                                 Float32(lowb_), Float32(upb_), UInt16(maxiter_), Float32(prec_))\n",
    "        #                         0.1, 10 , 1000, 0.0001)\n",
    "    \n",
    "        # iters = cl.read(queue, it_buff);\n",
    "        \n",
    "        krn[queue, size(grid_)](V0_buff, V_buff, grid_buff, 1000)\n",
    "        \n",
    "        V = cl.read(queue, V_buff);\n",
    "        \n",
    "        V0_ = cl.read(queue, V0_buff);\n",
    "        \n",
    "        cl.copy!(queue, V0_buff, V_buff);\n",
    "        \n",
    "        # cl.copy!(queue, V0_buff, Array{Float32}(4.*ones(size(V0))));\n",
    "        \n",
    "        it += 1;\n",
    "        \n",
    "    end\n",
    "    \n",
    "    return V, it\n",
    "    \n",
    "    # \n",
    "    \n",
    "end"
   ]
  },
  {
   "cell_type": "code",
   "execution_count": 45,
   "metadata": {},
   "outputs": [
    {
     "data": {
      "text/plain": [
       "cpu_vfi (generic function with 1 method)"
      ]
     },
     "execution_count": 45,
     "metadata": {},
     "output_type": "execute_result"
    }
   ],
   "source": [
    "using Optim\n",
    "using Interpolations\n",
    "\n",
    "function cpu_vfi(grid_::Array{Float32}, lowb_::Any, upb_::Any, maxiter_::Any, prec_::Any)\n",
    "    \n",
    "    w_prev = ones(size(grid_));\n",
    "    w_ = zeros(size(grid_));\n",
    "    \n",
    "    alpha = 0.5;\n",
    "    beta = 0.7;\n",
    "    \n",
    "    it = 0;\n",
    "    \n",
    "    while ( sum(abs.(w_prev - w_)) > prec_ && it < maxiter_ )\n",
    "        \n",
    "        w_prev = copy(w_);\n",
    "        \n",
    "        # itp = interpolate(w_prev, BSpline(Linear()), OnGrid());\n",
    "        # sitp = scale(itp, linspace(lb, ub, length(grid_)));\n",
    "        \n",
    "        for (i, point_i) in enumerate(grid_)\n",
    "    \n",
    "            # V(x) = -( log.(x) + beta*(point_i - x).^alpha );\n",
    "            #= V(x) = -( log(point_i^alpha - x) + beta*sitp[x] );\n",
    "            \n",
    "            res = optimize(V, (lowb_/100), point_i^alpha);\n",
    "            w_[i] = - res.minimum; =#\n",
    "            \n",
    "           w_max = -Inf;\n",
    "            for (j, point_j) in enumerate(grid_)\n",
    "                cons = (grid_[i].^alpha - point_j);\n",
    "                if cons > 0\n",
    "                    w_max = max(w_max, (log(cons) + beta*w_prev[j]));\n",
    "                end\n",
    "            end\n",
    "\n",
    "            w_[i] = w_max;\n",
    "            \n",
    "        end\n",
    "        \n",
    "        it += 1;\n",
    "\n",
    "    end\n",
    "\n",
    "    return w_, it\n",
    "     \n",
    "    \n",
    "end"
   ]
  },
  {
   "cell_type": "markdown",
   "metadata": {},
   "source": [
    "## Comparing algorithm speed"
   ]
  },
  {
   "cell_type": "code",
   "execution_count": 97,
   "metadata": {},
   "outputs": [
    {
     "name": "stdout",
     "output_type": "stream",
     "text": [
      "  0.096610 seconds (2.92 k allocations: 858.281 KiB)\n"
     ]
    },
    {
     "data": {
      "text/plain": [
       "(Float32[-6.87141, -6.32983, -6.01895, -5.79714, -5.62508, -5.48628, -5.36702, -5.26344, -5.17375, -5.09187  …  -1.55617, -1.55539, -1.55462, -1.55384, -1.55306, -1.55229, -1.55152, -1.55074, -1.54997, -1.5492], 45)"
      ]
     },
     "execution_count": 97,
     "metadata": {},
     "output_type": "execute_result"
    }
   ],
   "source": [
    "@time w_gpu, it_gpu = opencl_vfi(grid_w, lb, ub, 1000, 0.00001)"
   ]
  },
  {
   "cell_type": "code",
   "execution_count": 98,
   "metadata": {},
   "outputs": [
    {
     "name": "stdout",
     "output_type": "stream",
     "text": [
      "  1.898444 seconds (176 allocations: 1.310 MiB)\n"
     ]
    },
    {
     "data": {
      "text/plain": [
       "([-6.87141, -6.32984, -6.01895, -5.79714, -5.62508, -5.48628, -5.36702, -5.26344, -5.17375, -5.09187  …  -1.55617, -1.55539, -1.55462, -1.55384, -1.55306, -1.55229, -1.55152, -1.55074, -1.54997, -1.5492], 55)"
      ]
     },
     "execution_count": 98,
     "metadata": {},
     "output_type": "execute_result"
    }
   ],
   "source": [
    "@time w_cpu, it_cpu = cpu_vfi(grid_w, lb, ub, 1000, 0.00001)"
   ]
  },
  {
   "cell_type": "code",
   "execution_count": 70,
   "metadata": {
    "scrolled": false
   },
   "outputs": [
    {
     "data": {
      "image/png": "[encoded data removed]",
      "text/plain": [
       "PyPlot.Figure(PyObject <matplotlib.figure.Figure object at 0x139af1790>)"
      ]
     },
     "metadata": {},
     "output_type": "display_data"
    }
   ],
   "source": [
    "alpha = 0.5;\n",
    "beta = 0.7;\n",
    "ab = alpha*beta;\n",
    "y = log(1-alpha*beta)/(1-beta) + (alpha*beta*log(alpha*beta))/((1-beta)*(1-alpha*beta)) + alpha/(1-alpha*beta)*log.(grid_w);\n",
    "z = alpha/(1-ab)*log.(grid_w);\n",
    "\n",
    "error_gpu = abs.((y-w_gpu)./(1 + abs.((y-w_gpu))));\n",
    "error_cpu = abs.((y-w_cpu)./(1 + abs.((y-w_cpu))));\n",
    "\n",
    "using PyPlot\n",
    "\n",
    "fig = figure(figsize=(11,4));\n",
    "\n",
    "ax_a = subplot(121);\n",
    "\n",
    "ax_a1 = twinx(ax_a)\n",
    "\n",
    "ax_a[:plot](grid_w, w_gpu, \"r-\", linewidth=2);\n",
    "ax_a[:plot](grid_w, y, \"b--\", linewidth=1);\n",
    "# ax_a1[:plot](grid_w[1:2:end], it_gpu[1:2:end], \"g-\", linewidth=1.5);\n",
    "ax_a1[:plot](grid_w, error_gpu, \"k\", linewidth=0.7);\n",
    "ax_a[:grid](true);\n",
    "\n",
    "ax_b = subplot(122);\n",
    "\n",
    "ax_b1 = twinx(ax_b)\n",
    "\n",
    "ax_b[:plot](grid_w, w_cpu, \"r-\", linewidth=2);\n",
    "ax_b[:plot](grid_w, y, \"b--\", linewidth=1);\n",
    "# ax_b1[:plot](grid_w[1:end], it_cpu*ones(size(grid_w)), \"g--\", linewidth=1.5);\n",
    "ax_b1[:plot](grid_w, error_cpu, \"k\", linewidth=0.7);\n",
    "ax_b[:grid](true);"
   ]
  },
  {
   "cell_type": "code",
   "execution_count": 107,
   "metadata": {},
   "outputs": [],
   "source": [
    "av_gpu_time = 0;\n",
    "av_cpu_time = 0;\n",
    "\n",
    "repeats = 3;\n",
    "\n",
    "for i in 1:repeats\n",
    "    \n",
    "    t_gpu = @elapsed opencl_vfi(grid_w, lb, ub, 1000, 0.0001)\n",
    "    t_cpu = @elapsed cpu_vfi(grid_w, lb, ub, 1000, 0.0001)\n",
    "    \n",
    "    av_gpu_time += t_gpu/repeats;\n",
    "    av_cpu_time += t_cpu/repeats;\n",
    "    \n",
    "end"
   ]
  },
  {
   "cell_type": "code",
   "execution_count": 126,
   "metadata": {},
   "outputs": [
    {
     "data": {
      "image/png": "[encoded data removed]",
      "text/plain": [
       "PyPlot.Figure(PyObject <matplotlib.figure.Figure object at 0x139e2b750>)"
      ]
     },
     "metadata": {},
     "output_type": "display_data"
    }
   ],
   "source": [
    "using PyPlot;\n",
    "\n",
    "fig, ax = subplots(figsize=(11,4));\n",
    "\n",
    "ax_a = subplot(121)\n",
    "\n",
    "bar([1, 2], [it_gpu, it_cpu], tick_label=[\"GPU\", \"CPU\"], color=[\"g\", \"b\"], width=0.5);\n",
    "title(\"Number of iterations perfomed\");\n",
    "\n",
    "ax_b = subplot(122)\n",
    "\n",
    "bar([1, 2], [av_gpu_time, av_cpu_time], tick_label=[\"GPU\", \"CPU\"], color=[\"g\", \"b\"], width=0.5);\n",
    "title(\"Average time per iteration (seconds)\");\n"
   ]
  },
  {
   "cell_type": "code",
   "execution_count": null,
   "metadata": {
    "collapsed": true
   },
   "outputs": [],
   "source": []
  }
 ],
 "metadata": {
  "kernelspec": {
   "display_name": "Julia 0.6.1",
   "language": "julia",
   "name": "julia-0.6"
  },
  "language_info": {
   "file_extension": ".jl",
   "mimetype": "application/julia",
   "name": "julia",
   "version": "0.6.1"
  }
 },
 "nbformat": 4,
 "nbformat_minor": 2
}
