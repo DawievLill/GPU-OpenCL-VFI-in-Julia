{
 "cells": [
  {
   "cell_type": "markdown",
   "metadata": {},
   "source": [
    "# GPU Computing for Value Function Iteration in OpenCL\n",
    "### Original Paper: \"Tapping the Supercomputer Under Your Desk: Solving Dynamic Equilibrium Models with Graphics Processors\""
   ]
  },
  {
   "cell_type": "markdown",
   "metadata": {},
   "source": [
    "## Preparing the Environment\n",
    "\n",
    "We first import the OpenCL.jl modeule into the Julia workspace, and we make sure that the machine is equipped with a GPU device to run the task:"
   ]
  },
  {
   "cell_type": "code",
   "execution_count": 204,
   "metadata": {},
   "outputs": [
    {
     "data": {
      "text/plain": [
       "2-element Array{OpenCL.cl.Device,1}:\n",
       " OpenCL.Device(Intel(R) Core(TM) i5-6267U CPU @ 2.90GHz on Apple @0x00000000ffffffff)\n",
       " OpenCL.Device(Intel(R) Iris(TM) Graphics 550 on Apple @0x0000000001024500)          "
      ]
     },
     "execution_count": 204,
     "metadata": {},
     "output_type": "execute_result"
    }
   ],
   "source": [
    "using OpenCL\n",
    "\n",
    "cl.devices()"
   ]
  },
  {
   "cell_type": "markdown",
   "metadata": {},
   "source": [
    "In this case the 2nd device is an Intel GPU (Iris 550): since Intel graphic cards are not programmable with the CUDA GPGPU language, we resort to OpenCL, which runs with little performance overhead on prectically *any* consumer available graphics card.\n",
    "\n",
    "Let us create an OpenCL compute context i.e. initialize an environment for OpenCL computation:"
   ]
  },
  {
   "cell_type": "code",
   "execution_count": 205,
   "metadata": {
    "collapsed": true
   },
   "outputs": [],
   "source": [
    "# device, ctx, queue = cl.create_compute_context();"
   ]
  },
  {
   "cell_type": "markdown",
   "metadata": {},
   "source": [
    "## Creating the Kernel\n",
    "\n",
    "The key component in any GPGPU program is the so-called **kernel**: a kernel is nothing more than a small, compact routine that instead of running on the CPU, that is **serially**, is dispatched to the GPU by the OpenCL program and run **at the same time** by all available cores.\n",
    "\n",
    "The downside of the GPU is that all of its cores are \"tied together\", which means only tasks that can be split into indipendent, small-scale problems can benefit from being run on the GPU. In fact, most of the complexity in GPGPU computing is usually connected to the correct and most efficient orchestration of the CPU and the GPU.\n",
    "\n",
    "Let us now define the **Value Function Iteration** algorithm as an OpenCL kernel:"
   ]
  },
  {
   "cell_type": "code",
   "execution_count": 206,
   "metadata": {
    "collapsed": true
   },
   "outputs": [],
   "source": [
    "vfi_source = \"\n",
    "#pragma OPENCL EXTENSION cl_khr_byte_addressable_store : enable\n",
    "\n",
    "__kernel void gpuvfi( __global float *w,\n",
    "                      __global int *iters,\n",
    "                      __global const float *grid,\n",
    "                      float const w_lb,\n",
    "                      float const w_ub,\n",
    "                      ushort const max_iter,\n",
    "                      float const precision ) \n",
    "    {\n",
    "      \n",
    "        int gid = get_global_id(0);\n",
    "\n",
    "        int it = 0;\n",
    "\n",
    "        float alpha = 0.5f;\n",
    "        float beta = 0.7f;\n",
    "\n",
    "        float phi = 0.618033f;\n",
    "        \n",
    "        float grid_p = grid[gid];\n",
    "\n",
    "        // float lb = w_lb;\n",
    "        // float up = w_ub;\n",
    "        // float b = pow(grid_p, alpha);\n",
    "\n",
    "        float a = 0.01f;\n",
    "        float b = pow(grid_p, alpha);\n",
    "\n",
    "        // a = lb - (ub-lb)/(2*phi-1)*phi;\n",
    "        // b += lb + (ub-lb)/(2*phi-1)*phi;\n",
    "\n",
    "        float w1 = 0;\n",
    "        float w2 = 0;\n",
    "        \n",
    "        float w_prev = 0;\n",
    "        float w_temp = w_prev;\n",
    "\n",
    "        for(int k = 0; k < max_iter; k++) {\n",
    "\n",
    "            w_prev = w_temp;\n",
    "\n",
    "            a = 0.01f;\n",
    "            b = pow(grid_p, alpha);\n",
    "\n",
    "            w1 = log(powr(grid_p, alpha) - (a+(b-a)*(1-phi)))  + beta*w_prev;\n",
    "            w2 = log(powr(grid_p, alpha) - (a+(b-a)*phi)) + beta*w_prev;\n",
    "\n",
    "            // Optimize the value function by the Golden search algorithm:\n",
    "        \n",
    "            // int ii = 0;\n",
    "            \n",
    "            for(int i = 0; i < 100; i++) {\n",
    "\n",
    "                if (w1 > w2) {\n",
    "                \n",
    "                    b = a+(b-a)*phi;\n",
    "                    w2 = log(powr(grid_p, alpha) - (a+(b-a)*phi)) + beta*w_prev;\n",
    "                \n",
    "                } else {\n",
    "\n",
    "                    a = a+(b-a)*(1-phi);\n",
    "                    w1 = log(powr(grid_p, alpha) - (a+(b-a)*(1-phi))) + beta*w_prev;\n",
    "\n",
    "                }\n",
    "                \n",
    "                // ii++;\n",
    "                \n",
    "                if (fabs(a - b) <= 0.0001)\n",
    "                   break;\n",
    "\n",
    "            } // end of optimization;\n",
    "\n",
    "            w_temp = w1;\n",
    "\n",
    "            it++;\n",
    "\n",
    "            // Check iteration convergence:\n",
    "\n",
    "            if (fabs(w_temp - w_prev) <= 0.00001)\n",
    "                break;\n",
    "\n",
    "        } // end of value function iteration;\n",
    "\n",
    "        w[gid] = w_temp;\n",
    "\n",
    "        iters[gid] = it;\n",
    "    \n",
    "    }\n",
    "\";\n",
    "\n",
    "\n",
    "\n",
    "vfi_source__ = \"\n",
    "#pragma OPENCL EXTENSION cl_khr_byte_addressable_store : enable\n",
    "\n",
    "__kernel void gpuvfi( __global float *w,\n",
    "                      __global int *iters,\n",
    "                      __global const float *grid,\n",
    "                      float const w_lb,\n",
    "                      float const w_ub,\n",
    "                      ushort const max_iter,\n",
    "                      float const precision ) \n",
    "    {\n",
    "      \n",
    "        int ii = 0;\n",
    "            \n",
    "            for(int i = 0; i < 100; i++) {\n",
    "\n",
    "                if (w1 > w2) {\n",
    "                \n",
    "                    b = a+(b-a)*phi;\n",
    "                    w2 = log(powr(grid_p, alpha) - (a+(b-a)*phi)) + beta*w_prev;\n",
    "                \n",
    "                } else {\n",
    "\n",
    "                    a = a+(b-a)*(1-phi);\n",
    "                    w1 = log(powr(grid_p, alpha) - (a+(b-a)*(1-phi))) + beta*w_prev;\n",
    "\n",
    "                }\n",
    "                \n",
    "                ii++;\n",
    "                \n",
    "                if (fabs(a - b) <= 0.00001)\n",
    "                    break;\n",
    "\n",
    "            } // end of optimization;\n",
    "    \n",
    "    }\n",
    "\";\n",
    "\n",
    "vfi_correct = \"\n",
    "#pragma OPENCL EXTENSION cl_khr_byte_addressable_store : enable\n",
    "\n",
    "__kernel void gpuvfi( __global float *w,\n",
    "                      __global const float *grid,\n",
    "                      float const w_lb,\n",
    "                      float const w_ub,\n",
    "                      ushort const max_iter,\n",
    "                      float const precision ) \n",
    "    {\n",
    "      \n",
    "        int gid = get_global_id(0);\n",
    "\n",
    "        int it = 0;\n",
    "\n",
    "        float alpha = 0.5f;\n",
    "        float beta = 0.7f;\n",
    "\n",
    "        float phi = 0.618033f;\n",
    "        \n",
    "        float grid_p = grid[gid];\n",
    "\n",
    "        float a = 0.01f;\n",
    "        float b = pow(grid_p, alpha);\n",
    "\n",
    "        float w1 = 0;\n",
    "        float w2 = 0;\n",
    "\n",
    "        w1 = log(powr(grid_p, alpha) - (a+(b-a)*(1-phi)))  + beta*w[0];\n",
    "        w2 = log(powr(grid_p, alpha) - (a+(b-a)*phi)) + beta*w[gid];\n",
    "\n",
    "            // Optimize the value function by the Golden search algorithm:\n",
    "        \n",
    "            // int ii = 0;\n",
    "            \n",
    "            for(int i = 0; i < 100; i++) {\n",
    "\n",
    "                if (w1 > w2) {\n",
    "                \n",
    "                    b = a+(b-a)*phi;\n",
    "                    w2 = log(powr(grid_p, alpha) - (a+(b-a)*phi)) + beta*w_prev;\n",
    "                \n",
    "                } else {\n",
    "\n",
    "                    a = a+(b-a)*(1-phi);\n",
    "                    w1 = log(powr(grid_p, alpha) - (a+(b-a)*(1-phi))) + beta*w_prev;\n",
    "\n",
    "                }\n",
    "                \n",
    "                // ii++;\n",
    "                \n",
    "                if (fabs(a - b) <= 0.0001)\n",
    "                   break;\n",
    "\n",
    "            } // end of optimization;\n",
    "\n",
    "\n",
    "        w[gid] = w1;\n",
    "\n",
    "        iters[gid] = it;\n",
    "    \n",
    "    }\n",
    "\";"
   ]
  },
  {
   "cell_type": "code",
   "execution_count": 207,
   "metadata": {
    "collapsed": true
   },
   "outputs": [],
   "source": [
    "#=\n",
    "\n",
    "a = rand(Float32, 50_000)\n",
    "b = rand(Float32, 50_000)\n",
    "\n",
    "device, ctx, queue = cl.create_compute_context()\n",
    "\n",
    "a_buff = cl.Buffer(Float32, ctx, (:r, :copy), hostbuf=a)\n",
    "b_buff = cl.Buffer(Float32, ctx, (:r, :copy), hostbuf=b)\n",
    "c_buff = cl.Buffer(Float32, ctx, :w, length(a))\n",
    "p = cl.Program(ctx, source=vfi_source) |> cl.build!\n",
    "k = cl.Kernel(p, \"sum\")\n",
    "\n",
    "queue(k, size(a), nothing, a_buff, b_buff, c_buff)\n",
    "\n",
    "r = cl.read(queue, c_buff)\n",
    "\n",
    "if isapprox(norm(r - (a+b)), zero(Float32))\n",
    "    info(\"Success!\")\n",
    "else\n",
    "    error(\"Norm should be 0.0f\")\n",
    "end\n",
    "=#\n"
   ]
  },
  {
   "cell_type": "code",
   "execution_count": 208,
   "metadata": {},
   "outputs": [
    {
     "data": {
      "text/plain": [
       "200-element Array{Float32,1}:\n",
       "  0.01    \n",
       "  0.060201\n",
       "  0.110402\n",
       "  0.160603\n",
       "  0.210804\n",
       "  0.261005\n",
       "  0.311206\n",
       "  0.361407\n",
       "  0.411608\n",
       "  0.461809\n",
       "  0.51201 \n",
       "  0.562211\n",
       "  0.612412\n",
       "  ⋮       \n",
       "  9.44779 \n",
       "  9.49799 \n",
       "  9.54819 \n",
       "  9.59839 \n",
       "  9.64859 \n",
       "  9.69879 \n",
       "  9.74899 \n",
       "  9.7992  \n",
       "  9.8494  \n",
       "  9.8996  \n",
       "  9.9498  \n",
       " 10.0     "
      ]
     },
     "execution_count": 208,
     "metadata": {},
     "output_type": "execute_result"
    }
   ],
   "source": [
    "\n",
    "lb = 0.01;\n",
    "ub = 10;\n",
    "\n",
    "grid_size = 200;\n",
    "\n",
    "grid_w = Array{Float32}(collect(linspace(lb, ub, grid_size)));\n",
    "\n",
    "#=\n",
    "w = Array{Float32}(zeros(size(grid_w)));\n",
    "it = Array{Int16}(zeros(size(grid_w)));\n",
    "=#"
   ]
  },
  {
   "cell_type": "code",
   "execution_count": 209,
   "metadata": {
    "collapsed": true
   },
   "outputs": [],
   "source": [
    "#=\n",
    "w_buff = cl.Buffer(Float32, ctx, :w, length(w));\n",
    "it_buff = cl.Buffer(Int16, ctx, :w, length(it));\n",
    "\n",
    "grid_buff = cl.Buffer(Float32, ctx, (:r, :copy), hostbuf = grid_w);\n",
    "#lb_buff = cl.Buffer(Float32, ctx, (:r, :copy), hostbuf = lb)\n",
    "#ub_buff = cl.Buffer(Float32, ctx, (:r, :copy), hostbuf = ub)\n",
    "\n",
    "p = cl.Program(ctx, source = vfi_source) |> cl.build!\n",
    "krn = cl.Kernel(p, \"gpuvfi\")\n",
    "=#"
   ]
  },
  {
   "cell_type": "code",
   "execution_count": 210,
   "metadata": {
    "collapsed": true
   },
   "outputs": [],
   "source": [
    "# queue(krn, size(w), nothing, w_buff, it_buff, grid_buff, 0.1, 10 , 1000, 0.0001)\n",
    "\n",
    "# cl.call(queue, krn, length(w), nothing, )"
   ]
  },
  {
   "cell_type": "code",
   "execution_count": 211,
   "metadata": {
    "collapsed": true
   },
   "outputs": [],
   "source": [
    "# iters = cl.read(queue, it_buff);\n",
    "# r = cl.read(queue, w_buff)"
   ]
  },
  {
   "cell_type": "code",
   "execution_count": 212,
   "metadata": {},
   "outputs": [
    {
     "data": {
      "text/plain": [
       "opencl_vfi (generic function with 1 method)"
      ]
     },
     "execution_count": 212,
     "metadata": {},
     "output_type": "execute_result"
    }
   ],
   "source": [
    "function opencl_vfi(grid_::Array{Float32}, lowb_::Any, upb_::Any, maxiter_::Any, prec_::Any)\n",
    "    \n",
    "    device, ctx, queue = cl.create_compute_context();\n",
    "    \n",
    "    # grid = Array{Float32}(zeros(size(grid_)));\n",
    "    # w = Array{Float32}(zeros(size(grid)));\n",
    "    # it = Array{Int16}(zeros(size(grid)));\n",
    "    \n",
    "    grid_buff = cl.Buffer(Float32, ctx, (:r, :copy), hostbuf = grid_);\n",
    "    w_buff = cl.Buffer(Float32, ctx, :w, length(grid_));\n",
    "    it_buff = cl.Buffer(Int16, ctx, :w, length(grid_));\n",
    "\n",
    "    p = cl.Program(ctx, source = vfi_source) |> cl.build!\n",
    "    krn = cl.Kernel(p, \"gpuvfi\")\n",
    "    \n",
    "    queue(krn, size(grid_), nothing, w_buff, it_buff, grid_buff, \n",
    "    #                                 Float32(lowb_), Float32(upb_), UInt16(maxiter_), Float32(prec_))\n",
    "                                     0.1, 10 , 1000, 0.0001)\n",
    "    \n",
    "    iters = cl.read(queue, it_buff);\n",
    "    r = cl.read(queue, w_buff);\n",
    "    \n",
    "    return r, iters\n",
    "    \n",
    "end"
   ]
  },
  {
   "cell_type": "code",
   "execution_count": 213,
   "metadata": {},
   "outputs": [
    {
     "data": {
      "text/plain": [
       "cpu_vfi (generic function with 1 method)"
      ]
     },
     "execution_count": 213,
     "metadata": {},
     "output_type": "execute_result"
    }
   ],
   "source": [
    "using Optim\n",
    "\n",
    "function cpu_vfi(grid_::Array{Float32}, lowb_::Any, upb_::Any, maxiter_::Any, prec_::Any)\n",
    "    \n",
    "    w_prev = ones(size(grid_));\n",
    "    w_ = copy(w_prev);\n",
    "    \n",
    "    alpha = 0.5;\n",
    "    beta = 0.7;\n",
    "    \n",
    "    it = 0;\n",
    "    \n",
    "    while ( it < maxiter_ && (sum(abs.(w_prev - w_)) > prec_ || it < 1))\n",
    "        \n",
    "        w_prev = copy(w_);\n",
    "        \n",
    "        \n",
    "        for (i, point) in enumerate(grid_)\n",
    "    \n",
    "            # V(x) = - (log.(x) + beta*(grid_[i] - x).^alpha);\n",
    "            V(x) = - (log(grid_[i].^alpha - x) + beta*w_prev[i]);\n",
    "            \n",
    "            res = optimize(V, (lowb_/100), grid_[i].^alpha);\n",
    "            w_[i] = - res.minimum;\n",
    "            \n",
    "        end \n",
    "        \n",
    "        it += 1;\n",
    "\n",
    "    end\n",
    "\n",
    "    return w_, it\n",
    "     \n",
    "    \n",
    "end"
   ]
  },
  {
   "cell_type": "markdown",
   "metadata": {},
   "source": [
    "## Comparing algorithm speed"
   ]
  },
  {
   "cell_type": "code",
   "execution_count": 214,
   "metadata": {},
   "outputs": [
    {
     "name": "stdout",
     "output_type": "stream",
     "text": [
      "  0.171094 seconds (2.99 k allocations: 162.137 KiB)\n"
     ]
    },
    {
     "data": {
      "text/plain": [
       "(Float32[-11.2306, -8.02868, -6.98111, -6.33939, -5.87523, -5.5117, -5.21291, -4.95964, -4.73931, -4.54456  …  0.54183, 0.550598, 0.55932, 0.567997, 0.576628, 0.585216, 0.593759, 0.602259, 0.610716, 0.61913], Int16[37, 0, 36, 0, 36, 0, 36, 0, 35, 0  …  29, 0, 29, 0, 29, 0, 29, 0, 29, 0])"
      ]
     },
     "execution_count": 214,
     "metadata": {},
     "output_type": "execute_result"
    }
   ],
   "source": [
    "@time w_gpu, it_gpu = opencl_vfi(grid_w, lb, ub, 1000, 0.00001)"
   ]
  },
  {
   "cell_type": "code",
   "execution_count": 215,
   "metadata": {},
   "outputs": [
    {
     "name": "stdout",
     "output_type": "stream",
     "text": [
      "  1.476980 seconds (25.18 M allocations: 392.188 MiB, 11.63% gc time)\n"
     ]
    },
    {
     "data": {
      "text/plain": [
       "([-7.67862, -4.6848, -3.67371, -3.04886, -2.59544, -2.23935, -1.9461, -1.69681, -1.47999, -1.28816  …  3.76048, 3.76922, 3.77791, 3.78656, 3.79517, 3.80373, 3.81224, 3.82072, 3.82915, 3.83754], 47)"
      ]
     },
     "execution_count": 215,
     "metadata": {},
     "output_type": "execute_result"
    }
   ],
   "source": [
    "@time w_cpu, it_cpu = cpu_vfi(grid_w, lb, ub, 1000, 0.00001)"
   ]
  },
  {
   "cell_type": "code",
   "execution_count": 216,
   "metadata": {
    "scrolled": false
   },
   "outputs": [
    {
     "data": {
      "image/png": "[encoded data removed]",
      "text/plain": [
       "PyPlot.Figure(PyObject <matplotlib.figure.Figure object at 0x1571ab3d0>)"
      ]
     },
     "metadata": {},
     "output_type": "display_data"
    }
   ],
   "source": [
    "alpha = 0.5;\n",
    "beta = 0.7;\n",
    "ab = alpha*beta;\n",
    "y = log(1-ab)/(1-beta) + alpha*log(ab)/(1-alpha)*(1/(1-beta)-1/(1-ab)) + 1/(1-ab)*log.(grid_w) \n",
    "z = 1/(1-ab)*log.(grid_w);\n",
    "\n",
    "error_gpu = abs.((y-w_gpu)./(1 + abs.((y-w_gpu))));\n",
    "error_cpu = abs.((z-w_cpu)./(1 + abs.((z-w_cpu))));\n",
    "\n",
    "using PyPlot\n",
    "\n",
    "fig = figure(figsize=(11,4));\n",
    "\n",
    "ax_a = subplot(121);\n",
    "\n",
    "ax_a1 = twinx(ax_a)\n",
    "\n",
    "ax_a[:plot](grid_w, w_gpu, \"r-\", linewidth=2);\n",
    "ax_a[:plot](grid_w, y, \"b--\", linewidth=1);\n",
    "# ax_a1[:plot](grid_w[1:2:end], it_gpu[1:2:end], \"g-\", linewidth=1.5);\n",
    "ax_a1[:plot](grid_w, error_gpu, \"k\", linewidth=0.7);\n",
    "ax_a[:grid](true);\n",
    "\n",
    "ax_b = subplot(122);\n",
    "\n",
    "ax_b1 = twinx(ax_b)\n",
    "\n",
    "ax_b[:plot](grid_w, w_cpu, \"r-\", linewidth=2);\n",
    "ax_b[:plot](grid_w, z, \"b--\", linewidth=1);\n",
    "# ax_b1[:plot](grid_w[1:end], it_cpu*ones(size(grid_w)), \"g--\", linewidth=1.5);\n",
    "ax_b1[:plot](grid_w, error_cpu, \"k\", linewidth=0.7);\n",
    "ax_b[:grid](true);"
   ]
  },
  {
   "cell_type": "code",
   "execution_count": 217,
   "metadata": {},
   "outputs": [
    {
     "data": {
      "image/png": "[encoded data removed]",
      "text/plain": [
       "PyPlot.Figure(PyObject <matplotlib.figure.Figure object at 0x1571d8510>)"
      ]
     },
     "metadata": {},
     "output_type": "display_data"
    }
   ],
   "source": [
    "fig, ax = subplots(figsize=(11,4));\n",
    "\n",
    "ax[:plot](grid_w[1:2:end], it_gpu[1:2:end], \"g-\", linewidth=1.5)\n",
    "ax[:plot](grid_w[1:end], it_cpu*ones(size(grid_w)), \"r--\", linewidth=1.5)\n",
    "\n",
    "ax[:grid](true);"
   ]
  },
  {
   "cell_type": "code",
   "execution_count": null,
   "metadata": {
    "collapsed": true
   },
   "outputs": [],
   "source": []
  }
 ],
 "metadata": {
  "kernelspec": {
   "display_name": "Julia 0.6.1",
   "language": "julia",
   "name": "julia-0.6"
  },
  "language_info": {
   "file_extension": ".jl",
   "mimetype": "application/julia",
   "name": "julia",
   "version": "0.6.1"
  }
 },
 "nbformat": 4,
 "nbformat_minor": 2
}
